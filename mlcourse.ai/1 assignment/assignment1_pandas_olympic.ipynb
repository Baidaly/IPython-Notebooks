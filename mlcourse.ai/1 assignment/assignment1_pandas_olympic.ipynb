{
  "nbformat": 4,
  "nbformat_minor": 0,
  "metadata": {
    "kernelspec": {
      "display_name": "Python 3",
      "language": "python",
      "name": "python3"
    },
    "language_info": {
      "codemirror_mode": {
        "name": "ipython",
        "version": 3
      },
      "file_extension": ".py",
      "mimetype": "text/x-python",
      "name": "python",
      "nbconvert_exporter": "python",
      "pygments_lexer": "ipython3",
      "version": "3.7.3"
    },
    "colab": {
      "name": "assignment1_pandas_olympic.ipynb",
      "version": "0.3.2",
      "provenance": [],
      "include_colab_link": true
    }
  },
  "cells": [
    {
      "cell_type": "markdown",
      "metadata": {
        "id": "view-in-github",
        "colab_type": "text"
      },
      "source": [
        "<a href=\"https://colab.research.google.com/github/Baidaly/IPython-Notebooks/blob/master/mlcourse.ai/1%20assignment/assignment1_pandas_olympic.ipynb\" target=\"_parent\"><img src=\"https://colab.research.google.com/assets/colab-badge.svg\" alt=\"Open In Colab\"/></a>"
      ]
    },
    {
      "cell_type": "markdown",
      "metadata": {
        "id": "W7zdVy231PGt",
        "colab_type": "text"
      },
      "source": [
        "<center>\n",
        "<img src=\"../../img/ods_stickers.jpg\" />\n",
        "    \n",
        "## [mlcourse.ai](https://mlcourse.ai) – Open Machine Learning Course \n",
        "Author: Arina Lopukhova (@erynn). Edited by [Yury Kashnitskiy](https://yorko.github.io) (@yorko) and Vadim Shestopalov (@vchulski). This material is subject to the terms and conditions of the [Creative Commons CC BY-NC-SA 4.0](https://creativecommons.org/licenses/by-nc-sa/4.0/) license. Free use is permitted for any non-commercial purpose."
      ]
    },
    {
      "cell_type": "markdown",
      "metadata": {
        "id": "eCPL5xfk1PGy",
        "colab_type": "text"
      },
      "source": [
        "# <center>Assignment #1. Fall 2019\n",
        "## <center>Exploratory data analysis of Olympic games with Pandas\n",
        "    \n",
        "<img src='../../img/olympic_logo.png' width=50%>"
      ]
    },
    {
      "cell_type": "markdown",
      "metadata": {
        "id": "NEKd0FAk1PG1",
        "colab_type": "text"
      },
      "source": [
        "Prior to working on the assignment, you'd better check out the corresponding course material:\n",
        " - [Exploratory data analysis with Pandas](https://nbviewer.jupyter.org/github/Yorko/mlcourse_open/blob/master/jupyter_english/topic01_pandas_data_analysis/topic1_pandas_data_analysis.ipynb?flush_cache=true), the same as an interactive web-based [Kaggle Kernel](https://www.kaggle.com/kashnitsky/topic-1-exploratory-data-analysis-with-pandas)\n",
        " - first lectures in mlcourse.ai [YouTube playlist ](https://www.youtube.com/watch?v=QKTuw4PNOsU&list=PLVlY_7IJCMJeRfZ68eVfEcu-UcN9BbwiX) \n",
        " - you can also practice with demo assignments, which are simpler and already shared with solutions: [A1 demo](https://www.kaggle.com/kashnitsky/a1-demo-pandas-and-uci-adult-dataset), [solution](https://www.kaggle.com/kashnitsky/a1-demo-pandas-and-uci-adult-dataset-solution)\n",
        "\n",
        "### Your task is to:\n",
        " 1. write code and perform computations in the cells below\n",
        " 2. choose answers in the [webform](https://docs.google.com/forms/d/1JxhQ9Bg4OpM3E5N47ZuRbILgDuMRbvEnUbDMZK8L-NU). Solutions will be shared only with those who've filled in this form \n",
        " 3. submit answers with some email and **remember it**! This will be your ID during the course. Specify your real full name in the form as well (no nicks allowed in the final top-100 [rating](https://mlcourse.ai/rating)). If in doubt, you can re-submit the form till the deadline for A1, no problem, but stick to only one email.\n",
        " \n",
        "### <center> Deadline for A1: 2019 September 15, 20:59 GMT (London time)\n",
        "    \n",
        "You'll get up to 10 credits for this assignment.\n",
        "\n",
        "### How to get help\n",
        "In [ODS Slack](https://opendatascience.slack.com) (if you still don't have access, fill in the [form](https://docs.google.com/forms/d/10HAN5huM996snUKjsNYyT_oOlm2uOsTKulKurb3oiNM/) mentioned on the mlcourse.ai main page), we have a channel **#mlcourse_ai_news** with announcements from the course team.\n",
        "You can discuss the course content freely in the **#mlcourse_ai** channel (we still have a huge Russian-speaking group, they have a separate channel **#mlcourse_ai_rus**).\n",
        "\n",
        "Here's how you reply in a thread (press this dialog icon to drill down into a thread):\n",
        "\n",
        "<img src=\"../../img/start_a_thread.png\" />\n",
        "\n",
        "Please stick to special threads *a1_q1-5_fall2019* and *a1_q6-10_fall2019* in **#mlcourse_ai_news** for your questions on A1. Help each other without sharing correct code and answers. Our TA **Vadim @vchulski** is there to help (only in the mentioned thread, do not write to him directly).\n",
        "\n",
        "Lastly, you can save useful messages by pinning them, further you can find pinned items on the top, just below the channel name:\n",
        "\n",
        "<img src=\"../../img/pinned_item.png\" />\n",
        "\n",
        "### Assignment \n",
        "__There are ten questions about 120 years of Olympic history in this task. Your task is to fill in the missing Python code and choose answers in [this web-form](https://docs.google.com/forms/d/1JxhQ9Bg4OpM3E5N47ZuRbILgDuMRbvEnUbDMZK8L-NU).__"
      ]
    },
    {
      "cell_type": "markdown",
      "metadata": {
        "id": "KCXvu9pI1PG4",
        "colab_type": "text"
      },
      "source": [
        "Download the file `athlete_events.csv` from [here](https://drive.google.com/file/d/1f5v6Z2ayc7h698FG_98wP5x1Y2zZQeox/view?usp=sharing) (scraped by [rgriffin](https://www.randigriffin.com/) from www.sports-reference.com). The dataset has the following features:\n",
        "\n",
        "- __ID__ - Unique number for each athlete\n",
        "- __Name__ - Athlete's name\n",
        "- __Sex__ - M or F\n",
        "- __Age__ - Integer\n",
        "- __Height__ - In centimeters\n",
        "- __Weight__ - In kilograms\n",
        "- __Team__ - Team name\n",
        "- __NOC__ - National Olympic Committee 3-letter code\n",
        "- __Games__ - Year and season\n",
        "- __Year__ - Integer\n",
        "- __Season__ - Summer or Winter\n",
        "- __City__ - Host city\n",
        "- __Sport__ - Sport\n",
        "- __Event__ - Event\n",
        "- __Medal__ - Gold, Silver, Bronze, or NA"
      ]
    },
    {
      "cell_type": "code",
      "metadata": {
        "id": "uTezkmeM1PG7",
        "colab_type": "code",
        "colab": {}
      },
      "source": [
        "import pandas as pd\n",
        "import numpy as np"
      ],
      "execution_count": 0,
      "outputs": []
    },
    {
      "cell_type": "code",
      "metadata": {
        "id": "ZT8jY4k51PHF",
        "colab_type": "code",
        "colab": {
          "base_uri": "https://localhost:8080/",
          "height": 124
        },
        "outputId": "b05899a1-6cf3-43af-9bb3-78cb2f914a82"
      },
      "source": [
        "from google.colab import drive\n",
        "drive.mount('/content/drive')"
      ],
      "execution_count": 2,
      "outputs": [
        {
          "output_type": "stream",
          "text": [
            "Go to this URL in a browser: https://accounts.google.com/o/oauth2/auth?client_id=947318989803-6bn6qk8qdgf4n4g3pfee6491hc0brc4i.apps.googleusercontent.com&redirect_uri=urn%3Aietf%3Awg%3Aoauth%3A2.0%3Aoob&scope=email%20https%3A%2F%2Fwww.googleapis.com%2Fauth%2Fdocs.test%20https%3A%2F%2Fwww.googleapis.com%2Fauth%2Fdrive%20https%3A%2F%2Fwww.googleapis.com%2Fauth%2Fdrive.photos.readonly%20https%3A%2F%2Fwww.googleapis.com%2Fauth%2Fpeopleapi.readonly&response_type=code\n",
            "\n",
            "Enter your authorization code:\n",
            "··········\n",
            "Mounted at /content/drive\n"
          ],
          "name": "stdout"
        }
      ]
    },
    {
      "cell_type": "code",
      "metadata": {
        "id": "IkzgAK4C1PHN",
        "colab_type": "code",
        "colab": {
          "base_uri": "https://localhost:8080/",
          "height": 206
        },
        "outputId": "66486921-3c40-4b38-feef-78f873dfa3e0"
      },
      "source": [
        "PATH = '/content/drive/My Drive/data sets/athlete_events.csv'\n",
        "data = pd.read_csv(PATH)\n",
        "data.head()"
      ],
      "execution_count": 3,
      "outputs": [
        {
          "output_type": "execute_result",
          "data": {
            "text/html": [
              "<div>\n",
              "<style scoped>\n",
              "    .dataframe tbody tr th:only-of-type {\n",
              "        vertical-align: middle;\n",
              "    }\n",
              "\n",
              "    .dataframe tbody tr th {\n",
              "        vertical-align: top;\n",
              "    }\n",
              "\n",
              "    .dataframe thead th {\n",
              "        text-align: right;\n",
              "    }\n",
              "</style>\n",
              "<table border=\"1\" class=\"dataframe\">\n",
              "  <thead>\n",
              "    <tr style=\"text-align: right;\">\n",
              "      <th></th>\n",
              "      <th>ID</th>\n",
              "      <th>Name</th>\n",
              "      <th>Sex</th>\n",
              "      <th>Age</th>\n",
              "      <th>Height</th>\n",
              "      <th>Weight</th>\n",
              "      <th>Team</th>\n",
              "      <th>NOC</th>\n",
              "      <th>Games</th>\n",
              "      <th>Year</th>\n",
              "      <th>Season</th>\n",
              "      <th>City</th>\n",
              "      <th>Sport</th>\n",
              "      <th>Event</th>\n",
              "      <th>Medal</th>\n",
              "    </tr>\n",
              "  </thead>\n",
              "  <tbody>\n",
              "    <tr>\n",
              "      <th>0</th>\n",
              "      <td>1</td>\n",
              "      <td>A Dijiang</td>\n",
              "      <td>M</td>\n",
              "      <td>24.0</td>\n",
              "      <td>180.0</td>\n",
              "      <td>80.0</td>\n",
              "      <td>China</td>\n",
              "      <td>CHN</td>\n",
              "      <td>1992 Summer</td>\n",
              "      <td>1992</td>\n",
              "      <td>Summer</td>\n",
              "      <td>Barcelona</td>\n",
              "      <td>Basketball</td>\n",
              "      <td>Basketball Men's Basketball</td>\n",
              "      <td>NaN</td>\n",
              "    </tr>\n",
              "    <tr>\n",
              "      <th>1</th>\n",
              "      <td>2</td>\n",
              "      <td>A Lamusi</td>\n",
              "      <td>M</td>\n",
              "      <td>23.0</td>\n",
              "      <td>170.0</td>\n",
              "      <td>60.0</td>\n",
              "      <td>China</td>\n",
              "      <td>CHN</td>\n",
              "      <td>2012 Summer</td>\n",
              "      <td>2012</td>\n",
              "      <td>Summer</td>\n",
              "      <td>London</td>\n",
              "      <td>Judo</td>\n",
              "      <td>Judo Men's Extra-Lightweight</td>\n",
              "      <td>NaN</td>\n",
              "    </tr>\n",
              "    <tr>\n",
              "      <th>2</th>\n",
              "      <td>3</td>\n",
              "      <td>Gunnar Nielsen Aaby</td>\n",
              "      <td>M</td>\n",
              "      <td>24.0</td>\n",
              "      <td>NaN</td>\n",
              "      <td>NaN</td>\n",
              "      <td>Denmark</td>\n",
              "      <td>DEN</td>\n",
              "      <td>1920 Summer</td>\n",
              "      <td>1920</td>\n",
              "      <td>Summer</td>\n",
              "      <td>Antwerpen</td>\n",
              "      <td>Football</td>\n",
              "      <td>Football Men's Football</td>\n",
              "      <td>NaN</td>\n",
              "    </tr>\n",
              "    <tr>\n",
              "      <th>3</th>\n",
              "      <td>4</td>\n",
              "      <td>Edgar Lindenau Aabye</td>\n",
              "      <td>M</td>\n",
              "      <td>34.0</td>\n",
              "      <td>NaN</td>\n",
              "      <td>NaN</td>\n",
              "      <td>Denmark/Sweden</td>\n",
              "      <td>DEN</td>\n",
              "      <td>1900 Summer</td>\n",
              "      <td>1900</td>\n",
              "      <td>Summer</td>\n",
              "      <td>Paris</td>\n",
              "      <td>Tug-Of-War</td>\n",
              "      <td>Tug-Of-War Men's Tug-Of-War</td>\n",
              "      <td>Gold</td>\n",
              "    </tr>\n",
              "    <tr>\n",
              "      <th>4</th>\n",
              "      <td>5</td>\n",
              "      <td>Christine Jacoba Aaftink</td>\n",
              "      <td>F</td>\n",
              "      <td>21.0</td>\n",
              "      <td>185.0</td>\n",
              "      <td>82.0</td>\n",
              "      <td>Netherlands</td>\n",
              "      <td>NED</td>\n",
              "      <td>1988 Winter</td>\n",
              "      <td>1988</td>\n",
              "      <td>Winter</td>\n",
              "      <td>Calgary</td>\n",
              "      <td>Speed Skating</td>\n",
              "      <td>Speed Skating Women's 500 metres</td>\n",
              "      <td>NaN</td>\n",
              "    </tr>\n",
              "  </tbody>\n",
              "</table>\n",
              "</div>"
            ],
            "text/plain": [
              "   ID                      Name  ...                             Event  Medal\n",
              "0   1                 A Dijiang  ...       Basketball Men's Basketball    NaN\n",
              "1   2                  A Lamusi  ...      Judo Men's Extra-Lightweight    NaN\n",
              "2   3       Gunnar Nielsen Aaby  ...           Football Men's Football    NaN\n",
              "3   4      Edgar Lindenau Aabye  ...       Tug-Of-War Men's Tug-Of-War   Gold\n",
              "4   5  Christine Jacoba Aaftink  ...  Speed Skating Women's 500 metres    NaN\n",
              "\n",
              "[5 rows x 15 columns]"
            ]
          },
          "metadata": {
            "tags": []
          },
          "execution_count": 3
        }
      ]
    },
    {
      "cell_type": "markdown",
      "metadata": {
        "id": "PTkMP88d1PHU",
        "colab_type": "text"
      },
      "source": [
        "__1. How old were the youngest male and female participants of the 1992 Olympics?__\n",
        "\n",
        "*For discussions, please stick to [ODS Slack](https://opendatascience.slack.com/), channel #mlcourse_ai_news, pinned thread #a1_q1-5_fall2019*\n",
        "\n",
        "- 16 and 15\n",
        "- 14 and 13 \n",
        "- 13 and 11\n",
        "- 11 and 12"
      ]
    },
    {
      "cell_type": "code",
      "metadata": {
        "id": "VgnxPJ0T1PHX",
        "colab_type": "code",
        "colab": {
          "base_uri": "https://localhost:8080/",
          "height": 143
        },
        "outputId": "09c2627f-7292-476a-cecc-4516d65a194c"
      },
      "source": [
        "olympics_1992 = data[data['Year'] == 1992]\n",
        "\n",
        "olympics_1992.groupby(['Sex']).agg({'Age': min})"
      ],
      "execution_count": 16,
      "outputs": [
        {
          "output_type": "execute_result",
          "data": {
            "text/html": [
              "<div>\n",
              "<style scoped>\n",
              "    .dataframe tbody tr th:only-of-type {\n",
              "        vertical-align: middle;\n",
              "    }\n",
              "\n",
              "    .dataframe tbody tr th {\n",
              "        vertical-align: top;\n",
              "    }\n",
              "\n",
              "    .dataframe thead th {\n",
              "        text-align: right;\n",
              "    }\n",
              "</style>\n",
              "<table border=\"1\" class=\"dataframe\">\n",
              "  <thead>\n",
              "    <tr style=\"text-align: right;\">\n",
              "      <th></th>\n",
              "      <th>Age</th>\n",
              "    </tr>\n",
              "    <tr>\n",
              "      <th>Sex</th>\n",
              "      <th></th>\n",
              "    </tr>\n",
              "  </thead>\n",
              "  <tbody>\n",
              "    <tr>\n",
              "      <th>F</th>\n",
              "      <td>12.0</td>\n",
              "    </tr>\n",
              "    <tr>\n",
              "      <th>M</th>\n",
              "      <td>11.0</td>\n",
              "    </tr>\n",
              "  </tbody>\n",
              "</table>\n",
              "</div>"
            ],
            "text/plain": [
              "      Age\n",
              "Sex      \n",
              "F    12.0\n",
              "M    11.0"
            ]
          },
          "metadata": {
            "tags": []
          },
          "execution_count": 16
        }
      ]
    },
    {
      "cell_type": "markdown",
      "metadata": {
        "id": "-xM2D4aJ1PHe",
        "colab_type": "text"
      },
      "source": [
        "__2. What was the percentage of male basketball players among all the male participants of the 2012 Olympics? Round the answer to the first decimal.__\n",
        "\n",
        "*Hint:* here and further if needed drop duplicated sportsmen to count only unique ones. \n",
        "\n",
        "*For discussions, please stick to [ODS Slack](https://opendatascience.slack.com/), channel #mlcourse_ai_news, pinned thread #a1_q1-5_fall2019*\n",
        "\n",
        "- 0.2\n",
        "- 1.5 \n",
        "- 2.5\n",
        "- 7.7"
      ]
    },
    {
      "cell_type": "code",
      "metadata": {
        "id": "QAZIZQ1Y1PHi",
        "colab_type": "code",
        "colab": {
          "base_uri": "https://localhost:8080/",
          "height": 34
        },
        "outputId": "da99ce57-393e-4b10-bb3d-8b03f26ccb9a"
      },
      "source": [
        "olympics_2012 = data[(data['Year'] == 2012) & (data['Sex'] == 'M')]\n",
        "olympics_2012_basketball = olympics_2012[olympics_2012['Sport'] == 'Basketball']\n",
        "olympics_2012_basketball['ID'].nunique()/olympics_2012['ID'].nunique() * 100"
      ],
      "execution_count": 59,
      "outputs": [
        {
          "output_type": "execute_result",
          "data": {
            "text/plain": [
              "2.4560805048609926"
            ]
          },
          "metadata": {
            "tags": []
          },
          "execution_count": 59
        }
      ]
    },
    {
      "cell_type": "markdown",
      "metadata": {
        "id": "esG_0bhk1PHo",
        "colab_type": "text"
      },
      "source": [
        "__3. What are the mean and standard deviation of height for female tennis players who participated in the 2000 Olympics? Round the answer to the first decimal.__\n",
        "\n",
        "*For discussions, please stick to [ODS Slack](https://opendatascience.slack.com/), channel #mlcourse_ai_news, pinned thread #a1_q1-5_fall2019*\n",
        "\n",
        "- 171.8 and 6.5\n",
        "- 179.4 and 10\n",
        "- 180.7 and 6.7\n",
        "- 182.4 and 9.1 "
      ]
    },
    {
      "cell_type": "code",
      "metadata": {
        "id": "bmwkK3Vl1PHq",
        "colab_type": "code",
        "colab": {
          "base_uri": "https://localhost:8080/",
          "height": 52
        },
        "outputId": "a7afab64-cdba-4d69-d190-4fb3948a17b1"
      },
      "source": [
        "olympics_2000 = data[(data['Year'] == 2000) & (data['Sex'] == 'F') & (data['Sport'] == 'Tennis')].drop_duplicates(subset='ID')\n",
        "print(np.mean(olympics_2000['Height']))\n",
        "print(np.std(olympics_2000['Height']))"
      ],
      "execution_count": 64,
      "outputs": [
        {
          "output_type": "stream",
          "text": [
            "171.8068181818182\n",
            "6.52592374956404\n"
          ],
          "name": "stdout"
        }
      ]
    },
    {
      "cell_type": "markdown",
      "metadata": {
        "id": "0c4gcHSc1PHw",
        "colab_type": "text"
      },
      "source": [
        "__4. Find a sportsman who participated in the 2006 Olympics, with the highest weight among other participants of the same Olympics. What sport did he or she do?__\n",
        "\n",
        "*For discussions, please stick to [ODS Slack](https://opendatascience.slack.com/), channel #mlcourse_ai_news, pinned thread #a1_q1-5_fall2019*\n",
        "\n",
        "- Judo\n",
        "- Bobsleigh \n",
        "- Skeleton\n",
        "- Boxing"
      ]
    },
    {
      "cell_type": "code",
      "metadata": {
        "id": "MKBEXPvK1PHy",
        "colab_type": "code",
        "colab": {
          "base_uri": "https://localhost:8080/",
          "height": 295
        },
        "outputId": "dcd60066-92e6-489b-c1d8-f2acbcda6882"
      },
      "source": [
        "olympics_2006 = data[data['Year'] == 2006]\n",
        "olympics_2006.loc[olympics_2006['Weight'].idxmax()]"
      ],
      "execution_count": 69,
      "outputs": [
        {
          "output_type": "execute_result",
          "data": {
            "text/plain": [
              "ID                           4476\n",
              "Name            Patrick R. Antaki\n",
              "Sex                             M\n",
              "Age                            41\n",
              "Height                        185\n",
              "Weight                        127\n",
              "Team                      Lebanon\n",
              "NOC                           LIB\n",
              "Games                 2006 Winter\n",
              "Year                         2006\n",
              "Season                     Winter\n",
              "City                       Torino\n",
              "Sport                    Skeleton\n",
              "Event     Skeleton Men's Skeleton\n",
              "Medal                         NaN\n",
              "Name: 8102, dtype: object"
            ]
          },
          "metadata": {
            "tags": []
          },
          "execution_count": 69
        }
      ]
    },
    {
      "cell_type": "markdown",
      "metadata": {
        "id": "qiBB87az1PH3",
        "colab_type": "text"
      },
      "source": [
        "__5. How many times did John Aalberg participate in the Olympics held in different years?__\n",
        "\n",
        "*For discussions, please stick to [ODS Slack](https://opendatascience.slack.com/), channel #mlcourse_ai_news, pinned thread #a1_q1-5_fall2019*\n",
        "\n",
        "- 0\n",
        "- 1 \n",
        "- 2\n",
        "- 3 "
      ]
    },
    {
      "cell_type": "code",
      "metadata": {
        "id": "e8ECaeez1PH5",
        "colab_type": "code",
        "colab": {
          "base_uri": "https://localhost:8080/",
          "height": 34
        },
        "outputId": "063094ce-18bc-4c6d-ecca-ace72246c6a4"
      },
      "source": [
        "data[data['Name'] == 'John Aalberg']['Year'].nunique()"
      ],
      "execution_count": 79,
      "outputs": [
        {
          "output_type": "execute_result",
          "data": {
            "text/plain": [
              "2"
            ]
          },
          "metadata": {
            "tags": []
          },
          "execution_count": 79
        }
      ]
    },
    {
      "cell_type": "markdown",
      "metadata": {
        "id": "LVcRy7dg1PIA",
        "colab_type": "text"
      },
      "source": [
        "__6. How many gold medals in tennis did sportspeople from the Switzerland team win at the 2008 Olympics? Count every medal from every sportsperson.__\n",
        "\n",
        "*For discussions, please stick to [ODS Slack](https://opendatascience.slack.com/), channel #mlcourse_ai_news, pinned thread #a1_q6-10_fall2019*\n",
        "\n",
        "- 0\n",
        "- 1 \n",
        "- 2\n",
        "- 3 "
      ]
    },
    {
      "cell_type": "code",
      "metadata": {
        "id": "QQMeQKvY1PIC",
        "colab_type": "code",
        "colab": {
          "base_uri": "https://localhost:8080/",
          "height": 34
        },
        "outputId": "039fca96-62aa-4a00-b069-d5839383ee3c"
      },
      "source": [
        "data[(data['Year'] == 2008) & (data['NOC'] == 'SUI') & (data['Sport'] == 'Tennis') & (data['Medal'] == 'Gold')].shape[0]"
      ],
      "execution_count": 104,
      "outputs": [
        {
          "output_type": "execute_result",
          "data": {
            "text/plain": [
              "2"
            ]
          },
          "metadata": {
            "tags": []
          },
          "execution_count": 104
        }
      ]
    },
    {
      "cell_type": "markdown",
      "metadata": {
        "id": "D7UbF98I1PIH",
        "colab_type": "text"
      },
      "source": [
        "__7. Is it true that Spain won fewer medals than Italy at the 2016 Olympics? Do not consider NaN values in _Medal_ column.__ \n",
        "\n",
        "*For discussions, please stick to [ODS Slack](https://opendatascience.slack.com/), channel #mlcourse_ai_news, pinned thread #a1_q6-10_fall2019*\n",
        "\n",
        "- Yes\n",
        "- No"
      ]
    },
    {
      "cell_type": "code",
      "metadata": {
        "id": "8Z9u2vng1PII",
        "colab_type": "code",
        "colab": {
          "base_uri": "https://localhost:8080/",
          "height": 34
        },
        "outputId": "84dac4fa-6377-4a61-fb39-c885844de513"
      },
      "source": [
        "spain_medals = data[(data['Year'] == 2016) & (data['NOC'] == 'ESP') & (data['Medal'].notnull())].shape[0]\n",
        "italy_medals = data[(data['Year'] == 2016) & (data['NOC'] == 'ITA') & (data['Medal'].notnull())].shape[0]\n",
        "spain_medals < italy_medals"
      ],
      "execution_count": 113,
      "outputs": [
        {
          "output_type": "execute_result",
          "data": {
            "text/plain": [
              "True"
            ]
          },
          "metadata": {
            "tags": []
          },
          "execution_count": 113
        }
      ]
    },
    {
      "cell_type": "markdown",
      "metadata": {
        "id": "0Uud4J0j1PIN",
        "colab_type": "text"
      },
      "source": [
        "__8. What age category did the fewest and the most participants of the 2008 Olympics belong to?__\n",
        "\n",
        "*For discussions, please stick to [ODS Slack](https://opendatascience.slack.com/), channel #mlcourse_ai_news, pinned thread #a1_q6-10_fall2019*\n",
        "\n",
        "- [45-55] and [25-35) correspondingly\n",
        "- [45-55] and [15-25) correspondingly\n",
        "- [35-45) and [25-35) correspondingly\n",
        "- [45-55] and [35-45) correspondingly"
      ]
    },
    {
      "cell_type": "code",
      "metadata": {
        "id": "wth_u8Xz1PIQ",
        "colab_type": "code",
        "colab": {
          "base_uri": "https://localhost:8080/",
          "height": 104
        },
        "outputId": "3327b581-bede-4e67-9fe6-dedb705b10ef"
      },
      "source": [
        "p_2008 = data[(data['Year'] == 2008)].drop_duplicates(subset='ID')\n",
        "ranges = pd.cut(np.array(p_2008['Age']), bins=[15,25,35,45,55], right=False)\n",
        "p_2008['Age'].groupby(ranges).count()"
      ],
      "execution_count": 148,
      "outputs": [
        {
          "output_type": "execute_result",
          "data": {
            "text/plain": [
              "[15, 25)    4786\n",
              "[25, 35)    5382\n",
              "[35, 45)     630\n",
              "[45, 55)      76\n",
              "Name: Age, dtype: int64"
            ]
          },
          "metadata": {
            "tags": []
          },
          "execution_count": 148
        }
      ]
    },
    {
      "cell_type": "markdown",
      "metadata": {
        "id": "7lonIFr31PIV",
        "colab_type": "text"
      },
      "source": [
        "__9. Is it true that there were Summer Olympics held in Atlanta? Is it true that there were Winter Olympics held in Squaw Valley?__\n",
        "\n",
        "*For discussions, please stick to [ODS Slack](https://opendatascience.slack.com/), channel #mlcourse_ai_news, pinned thread #a1_q6-10_fall2019*\n",
        "\n",
        "- Yes, Yes\n",
        "- Yes, No\n",
        "- No, Yes \n",
        "- No, No "
      ]
    },
    {
      "cell_type": "code",
      "metadata": {
        "id": "cvCWk-kb1PIY",
        "colab_type": "code",
        "colab": {
          "base_uri": "https://localhost:8080/",
          "height": 52
        },
        "outputId": "40b1d108-ba46-40e8-906d-e927bcf944c6"
      },
      "source": [
        "print(data[(data['City'] == 'Atlanta') & (data['Season'] == 'Summer')].shape[0] > 0)\n",
        "print(data[(data['City'] == 'Squaw Valley') & (data['Season'] == 'Winter')].shape[0] > 0)"
      ],
      "execution_count": 169,
      "outputs": [
        {
          "output_type": "stream",
          "text": [
            "True\n",
            "True\n"
          ],
          "name": "stdout"
        }
      ]
    },
    {
      "cell_type": "markdown",
      "metadata": {
        "id": "YLtOnTGm1PIb",
        "colab_type": "text"
      },
      "source": [
        "__10. What is the absolute difference between the number of unique sports at the 1986 Olympics and 2002 Olympics?__\n",
        "\n",
        "*For discussions, please stick to [ODS Slack](https://opendatascience.slack.com/), channel #mlcourse_ai_news, pinned thread #a1_q6-10_fall2019*\n",
        "\n",
        "- 3 \n",
        "- 10\n",
        "- 15\n",
        "- 27 "
      ]
    },
    {
      "cell_type": "code",
      "metadata": {
        "id": "eouJUkWY1PIe",
        "colab_type": "code",
        "colab": {
          "base_uri": "https://localhost:8080/",
          "height": 34
        },
        "outputId": "55ad53cc-1bd9-4264-bf11-21daa1d2db2d"
      },
      "source": [
        "data[(data['Year'] == 1986)]['Sport'].nunique() - data[(data['Year'] == 2002)]['Sport'].nunique()"
      ],
      "execution_count": 174,
      "outputs": [
        {
          "output_type": "execute_result",
          "data": {
            "text/plain": [
              "-15"
            ]
          },
          "metadata": {
            "tags": []
          },
          "execution_count": 174
        }
      ]
    },
    {
      "cell_type": "markdown",
      "metadata": {
        "id": "3ryZTmiP1PIi",
        "colab_type": "text"
      },
      "source": [
        "That's it! Now go and do 30 push-ups! :)"
      ]
    }
  ]
}