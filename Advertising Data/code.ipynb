{
 "cells": [
  {
   "cell_type": "code",
   "execution_count": 1,
   "metadata": {},
   "outputs": [
    {
     "data": {
      "text/html": [
       "<div>\n",
       "<style scoped>\n",
       "    .dataframe tbody tr th:only-of-type {\n",
       "        vertical-align: middle;\n",
       "    }\n",
       "\n",
       "    .dataframe tbody tr th {\n",
       "        vertical-align: top;\n",
       "    }\n",
       "\n",
       "    .dataframe thead th {\n",
       "        text-align: right;\n",
       "    }\n",
       "</style>\n",
       "<table border=\"1\" class=\"dataframe\">\n",
       "  <thead>\n",
       "    <tr style=\"text-align: right;\">\n",
       "      <th></th>\n",
       "      <th>Daily Time Spent on Site</th>\n",
       "      <th>Age</th>\n",
       "      <th>Area Income</th>\n",
       "      <th>Daily Internet Usage</th>\n",
       "      <th>Ad Topic Line</th>\n",
       "      <th>City</th>\n",
       "      <th>Male</th>\n",
       "      <th>Country</th>\n",
       "      <th>Timestamp</th>\n",
       "      <th>Clicked on Ad</th>\n",
       "    </tr>\n",
       "  </thead>\n",
       "  <tbody>\n",
       "    <tr>\n",
       "      <th>0</th>\n",
       "      <td>68.95</td>\n",
       "      <td>35</td>\n",
       "      <td>61833.90</td>\n",
       "      <td>256.09</td>\n",
       "      <td>Cloned 5thgeneration orchestration</td>\n",
       "      <td>Wrightburgh</td>\n",
       "      <td>0</td>\n",
       "      <td>Tunisia</td>\n",
       "      <td>2016-03-27 00:53:11</td>\n",
       "      <td>0</td>\n",
       "    </tr>\n",
       "    <tr>\n",
       "      <th>1</th>\n",
       "      <td>80.23</td>\n",
       "      <td>31</td>\n",
       "      <td>68441.85</td>\n",
       "      <td>193.77</td>\n",
       "      <td>Monitored national standardization</td>\n",
       "      <td>West Jodi</td>\n",
       "      <td>1</td>\n",
       "      <td>Nauru</td>\n",
       "      <td>2016-04-04 01:39:02</td>\n",
       "      <td>0</td>\n",
       "    </tr>\n",
       "    <tr>\n",
       "      <th>2</th>\n",
       "      <td>69.47</td>\n",
       "      <td>26</td>\n",
       "      <td>59785.94</td>\n",
       "      <td>236.50</td>\n",
       "      <td>Organic bottom-line service-desk</td>\n",
       "      <td>Davidton</td>\n",
       "      <td>0</td>\n",
       "      <td>San Marino</td>\n",
       "      <td>2016-03-13 20:35:42</td>\n",
       "      <td>0</td>\n",
       "    </tr>\n",
       "    <tr>\n",
       "      <th>3</th>\n",
       "      <td>74.15</td>\n",
       "      <td>29</td>\n",
       "      <td>54806.18</td>\n",
       "      <td>245.89</td>\n",
       "      <td>Triple-buffered reciprocal time-frame</td>\n",
       "      <td>West Terrifurt</td>\n",
       "      <td>1</td>\n",
       "      <td>Italy</td>\n",
       "      <td>2016-01-10 02:31:19</td>\n",
       "      <td>0</td>\n",
       "    </tr>\n",
       "    <tr>\n",
       "      <th>4</th>\n",
       "      <td>68.37</td>\n",
       "      <td>35</td>\n",
       "      <td>73889.99</td>\n",
       "      <td>225.58</td>\n",
       "      <td>Robust logistical utilization</td>\n",
       "      <td>South Manuel</td>\n",
       "      <td>0</td>\n",
       "      <td>Iceland</td>\n",
       "      <td>2016-06-03 03:36:18</td>\n",
       "      <td>0</td>\n",
       "    </tr>\n",
       "  </tbody>\n",
       "</table>\n",
       "</div>"
      ],
      "text/plain": [
       "   Daily Time Spent on Site  Age  Area Income  Daily Internet Usage  \\\n",
       "0                     68.95   35     61833.90                256.09   \n",
       "1                     80.23   31     68441.85                193.77   \n",
       "2                     69.47   26     59785.94                236.50   \n",
       "3                     74.15   29     54806.18                245.89   \n",
       "4                     68.37   35     73889.99                225.58   \n",
       "\n",
       "                           Ad Topic Line            City  Male     Country  \\\n",
       "0     Cloned 5thgeneration orchestration     Wrightburgh     0     Tunisia   \n",
       "1     Monitored national standardization       West Jodi     1       Nauru   \n",
       "2       Organic bottom-line service-desk        Davidton     0  San Marino   \n",
       "3  Triple-buffered reciprocal time-frame  West Terrifurt     1       Italy   \n",
       "4          Robust logistical utilization    South Manuel     0     Iceland   \n",
       "\n",
       "             Timestamp  Clicked on Ad  \n",
       "0  2016-03-27 00:53:11              0  \n",
       "1  2016-04-04 01:39:02              0  \n",
       "2  2016-03-13 20:35:42              0  \n",
       "3  2016-01-10 02:31:19              0  \n",
       "4  2016-06-03 03:36:18              0  "
      ]
     },
     "execution_count": 1,
     "metadata": {},
     "output_type": "execute_result"
    }
   ],
   "source": [
    "#Start with importing external libraries\n",
    "import pandas as pd\n",
    "import numpy as np\n",
    "import matplotlib as plt\n",
    "import seaborn as sns\n",
    "\n",
    "#Load the data set\n",
    "ad_data = pd.read_csv('advertising.csv')\n",
    "\n",
    "#display first five records\n",
    "ad_data.head()"
   ]
  },
  {
   "cell_type": "code",
   "execution_count": 2,
   "metadata": {},
   "outputs": [],
   "source": [
    "ad_data.drop(['City', 'Country', 'Timestamp', 'Ad Topic Line'], axis=1, inplace=True)"
   ]
  },
  {
   "cell_type": "code",
   "execution_count": 3,
   "metadata": {},
   "outputs": [],
   "source": [
    "#Assign input and output variable.\n",
    "X = ad_data.drop('Clicked on Ad', axis = 1)\n",
    "y = ad_data['Clicked on Ad']"
   ]
  },
  {
   "cell_type": "code",
   "execution_count": 4,
   "metadata": {},
   "outputs": [
    {
     "name": "stdout",
     "output_type": "stream",
     "text": [
      "<bound method DataFrame.count of      Daily Time Spent on Site  Age  Area Income  Daily Internet Usage  Male\n",
      "290                     50.52   31     72270.88                171.62     0\n",
      "167                     86.06   31     53767.12                219.72     1\n",
      "486                     83.97   40     66291.67                158.42     1\n",
      "683                     76.83   28     67990.84                192.81     0\n",
      "876                     67.39   44     51257.26                107.19     0\n",
      "956                     35.66   36     59240.24                172.57     0\n",
      "520                     46.61   42     65856.74                136.18     0\n",
      "183                     67.58   41     65044.59                255.61     1\n",
      "335                     38.94   41     57587.00                142.67     1\n",
      "126                     80.31   44     56366.88                127.07     0\n",
      "227                     34.86   38     49942.66                154.75     0\n",
      "681                     44.15   28     48867.67                141.96     1\n",
      "148                     49.78   46     71718.51                152.24     0\n",
      "856                     82.80   30     58776.67                223.20     1\n",
      "789                     40.88   33     48554.45                136.18     1\n",
      "334                     86.38   40     66359.32                188.27     1\n",
      "975                     39.87   48     47929.83                139.34     1\n",
      "288                     45.05   42     66348.95                141.36     0\n",
      "524                     79.91   32     62772.42                230.18     1\n",
      "607                     65.22   30     66263.37                240.09     1\n",
      "421                     83.71   45     64564.07                220.48     1\n",
      "562                     59.52   44     67511.86                251.08     1\n",
      "717                     85.01   29     59797.64                192.50     0\n",
      "84                      70.79   31     74535.94                184.10     0\n",
      "24                      41.39   41     68962.32                167.22     0\n",
      "974                     41.88   40     44217.68                126.11     1\n",
      "878                     81.75   43     52520.75                249.45     0\n",
      "744                     67.35   29     47510.42                118.69     0\n",
      "721                     43.07   36     60583.02                137.63     1\n",
      "812                     84.25   32     63936.50                170.90     1\n",
      "..                        ...  ...          ...                   ...   ...\n",
      "883                     41.53   42     67575.12                158.81     0\n",
      "925                     35.98   45     43241.88                150.79     0\n",
      "371                     36.08   45     41417.27                151.47     1\n",
      "136                     38.37   36     41229.16                140.46     0\n",
      "506                     77.05   31     62161.26                236.64     0\n",
      "623                     87.97   35     48918.55                149.25     1\n",
      "851                     35.11   35     47638.30                158.03     1\n",
      "49                      48.01   46     54286.10                119.93     0\n",
      "40                      84.98   29     57691.95                202.61     0\n",
      "477                     44.96   50     52802.00                132.71     1\n",
      "908                     56.91   50     21773.22                146.44     0\n",
      "5                       59.99   23     59761.56                226.74     1\n",
      "110                     66.63   60     60333.38                176.98     0\n",
      "704                     76.02   40     73174.19                219.55     0\n",
      "732                     83.16   41     70185.06                194.95     0\n",
      "316                     75.84   21     48537.18                186.98     0\n",
      "757                     48.86   35     62463.70                128.37     1\n",
      "936                     63.18   45     39211.49                107.92     0\n",
      "995                     72.97   30     71384.57                208.58     1\n",
      "644                     78.35   46     53185.34                253.48     0\n",
      "552                     56.39   58     32252.38                154.23     0\n",
      "973                     80.87   28     63528.80                203.30     0\n",
      "393                     62.26   26     70203.74                202.77     0\n",
      "75                      64.10   22     60465.72                215.93     0\n",
      "599                     38.63   48     57777.11                222.11     0\n",
      "575                     48.86   54     53188.69                134.46     0\n",
      "838                     44.13   40     33601.84                128.48     1\n",
      "337                     75.32   28     59998.50                233.60     1\n",
      "523                     67.94   43     68447.17                128.16     0\n",
      "863                     76.64   39     66217.31                241.50     1\n",
      "\n",
      "[700 rows x 5 columns]>\n"
     ]
    }
   ],
   "source": [
    "#Divide data set into train/test set.\n",
    "from sklearn.model_selection import train_test_split\n",
    "X_train, X_test, y_train, y_test = train_test_split(X, y, test_size = 0.30, random_state = 101)\n",
    "print(X_train.count)"
   ]
  },
  {
   "cell_type": "code",
   "execution_count": 5,
   "metadata": {},
   "outputs": [],
   "source": [
    "#Import the Logistic Regression Model & Train/Tet the model\n",
    "from sklearn.linear_model import LogisticRegression\n",
    "\n",
    "#Initialize the model to null\n",
    "logmodel = LogisticRegression()\n",
    "\n",
    "# Use fit method to train the model\n",
    "logmodel.fit(X_train, y_train)\n",
    "\n",
    "#Use predict method to test the model\n",
    "predictions = logmodel.predict(X_test)"
   ]
  },
  {
   "cell_type": "code",
   "execution_count": 6,
   "metadata": {},
   "outputs": [
    {
     "name": "stdout",
     "output_type": "stream",
     "text": [
      "             precision    recall  f1-score   support\n",
      "\n",
      "          0       0.91      0.95      0.93       157\n",
      "          1       0.94      0.90      0.92       143\n",
      "\n",
      "avg / total       0.92      0.92      0.92       300\n",
      "\n"
     ]
    }
   ],
   "source": [
    "#Import Classification report from sklearn to show the analysis\n",
    "from sklearn.metrics import classification_report\n",
    "\n",
    "# Show classification report parameters\n",
    "print (classification_report(y_test, predictions))"
   ]
  },
  {
   "cell_type": "code",
   "execution_count": 7,
   "metadata": {},
   "outputs": [
    {
     "name": "stdout",
     "output_type": "stream",
     "text": [
      "             precision    recall  f1-score   support\n",
      "\n",
      "          0       0.95      0.97      0.96       157\n",
      "          1       0.96      0.94      0.95       143\n",
      "\n",
      "avg / total       0.96      0.96      0.96       300\n",
      "\n"
     ]
    }
   ],
   "source": [
    "from sklearn.ensemble import RandomForestClassifier\n",
    "\n",
    "rfModel = RandomForestClassifier(n_estimators = 100)\n",
    "rfModel.fit(X_train, y_train)\n",
    "predictions = rfModel.predict(X_test)\n",
    "print (classification_report(y_test, predictions))"
   ]
  },
  {
   "cell_type": "code",
   "execution_count": null,
   "metadata": {},
   "outputs": [],
   "source": []
  }
 ],
 "metadata": {
  "kernelspec": {
   "display_name": "Python 3",
   "language": "python",
   "name": "python3"
  },
  "language_info": {
   "codemirror_mode": {
    "name": "ipython",
    "version": 3
   },
   "file_extension": ".py",
   "mimetype": "text/x-python",
   "name": "python",
   "nbconvert_exporter": "python",
   "pygments_lexer": "ipython3",
   "version": "3.6.5"
  }
 },
 "nbformat": 4,
 "nbformat_minor": 2
}
