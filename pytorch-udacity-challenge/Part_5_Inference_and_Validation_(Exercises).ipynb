{
  "nbformat": 4,
  "nbformat_minor": 0,
  "metadata": {
    "colab": {
      "name": "Copy of Part 5 - Inference and Validation (Exercises).ipynb",
      "version": "0.3.2",
      "provenance": [],
      "collapsed_sections": [],
      "toc_visible": true,
      "include_colab_link": true
    },
    "kernelspec": {
      "name": "python3",
      "display_name": "Python 3"
    },
    "accelerator": "GPU"
  },
  "cells": [
    {
      "cell_type": "markdown",
      "metadata": {
        "id": "view-in-github",
        "colab_type": "text"
      },
      "source": [
        "<a href=\"https://colab.research.google.com/github/Baidaly/IPython-Notebooks/blob/master/pytorch-udacity-challenge/Part_5_Inference_and_Validation_(Exercises).ipynb\" target=\"_parent\"><img src=\"https://colab.research.google.com/assets/colab-badge.svg\" alt=\"Open In Colab\"/></a>"
      ]
    },
    {
      "metadata": {
        "id": "d-IOY9jVfx9Q",
        "colab_type": "text"
      },
      "cell_type": "markdown",
      "source": [
        "# Inference and Validation\n",
        "\n",
        "Now that you have a trained network, you can use it for making predictions. This is typically called **inference**, a term borrowed from statistics. However, neural networks have a tendency to perform *too well* on the training data and aren't able to generalize to data that hasn't been seen before. This is called **overfitting** and it impairs inference performance. To test for overfitting while training, we measure the performance on data not in the training set called the **validation** set. We avoid overfitting through regularization such as dropout while monitoring the validation performance during training. In this notebook, I'll show you how to do this in PyTorch. \n",
        "\n",
        "As usual, let's start by loading the dataset through torchvision. You'll learn more about torchvision and loading data in a later part. This time we'll be taking advantage of the test set which you can get by setting `train=False` here:\n",
        "\n",
        "```python\n",
        "testset = datasets.FashionMNIST('~/.pytorch/F_MNIST_data/', download=True, train=False, transform=transform)\n",
        "```\n",
        "\n",
        "The test set contains images just like the training set. Typically you'll see 10-20% of the original dataset held out for testing and validation with the rest being used for training."
      ]
    },
    {
      "metadata": {
        "id": "M9UGV9t4gDsp",
        "colab_type": "code",
        "outputId": "5feaa1ef-148e-49b5-8188-06cea2f40e7d",
        "colab": {
          "base_uri": "https://localhost:8080/",
          "height": 54
        }
      },
      "cell_type": "code",
      "source": [
        "# http://pytorch.org/\n",
        "from os.path import exists\n",
        "from wheel.pep425tags import get_abbr_impl, get_impl_ver, get_abi_tag\n",
        "platform = '{}{}-{}'.format(get_abbr_impl(), get_impl_ver(), get_abi_tag())\n",
        "cuda_output = !ldconfig -p|grep cudart.so|sed -e 's/.*\\.\\([0-9]*\\)\\.\\([0-9]*\\)$/cu\\1\\2/'\n",
        "accelerator = cuda_output[0] if exists('/dev/nvidia0') else 'cpu'\n",
        "\n",
        "!pip install -q http://download.pytorch.org/whl/{accelerator}/torch-0.4.1-{platform}-linux_x86_64.whl torchvision"
      ],
      "execution_count": 0,
      "outputs": [
        {
          "output_type": "stream",
          "text": [
            "tcmalloc: large alloc 1073750016 bytes == 0x5903c000 @  0x7ff665b292a4 0x591a07 0x5b5d56 0x502e9a 0x506859 0x502209 0x502f3d 0x506859 0x504c28 0x502540 0x502f3d 0x506859 0x504c28 0x502540 0x502f3d 0x506859 0x504c28 0x502540 0x502f3d 0x507641 0x502209 0x502f3d 0x506859 0x504c28 0x502540 0x502f3d 0x507641 0x504c28 0x502540 0x502f3d 0x507641\n"
          ],
          "name": "stdout"
        }
      ]
    },
    {
      "metadata": {
        "id": "YZEfg9QDfx9W",
        "colab_type": "code",
        "outputId": "2a85cc52-19de-4292-d3a4-f04fab4ca1db",
        "colab": {
          "base_uri": "https://localhost:8080/",
          "height": 121
        }
      },
      "cell_type": "code",
      "source": [
        "import torch\n",
        "from torchvision import datasets, transforms\n",
        "\n",
        "# Define a transform to normalize the data\n",
        "transform = transforms.Compose([transforms.ToTensor(),\n",
        "                                transforms.Normalize((0.5, 0.5, 0.5), (0.5, 0.5, 0.5))])\n",
        "# Download and load the training data\n",
        "trainset = datasets.FashionMNIST('~/.pytorch/F_MNIST_data/', download=True, train=True, transform=transform)\n",
        "trainloader = torch.utils.data.DataLoader(trainset, batch_size=64, shuffle=True)\n",
        "\n",
        "# Download and load the test data\n",
        "testset = datasets.FashionMNIST('~/.pytorch/F_MNIST_data/', download=True, train=False, transform=transform)\n",
        "testloader = torch.utils.data.DataLoader(testset, batch_size=64, shuffle=True)"
      ],
      "execution_count": 0,
      "outputs": [
        {
          "output_type": "stream",
          "text": [
            "Downloading http://fashion-mnist.s3-website.eu-central-1.amazonaws.com/train-images-idx3-ubyte.gz\n",
            "Downloading http://fashion-mnist.s3-website.eu-central-1.amazonaws.com/train-labels-idx1-ubyte.gz\n",
            "Downloading http://fashion-mnist.s3-website.eu-central-1.amazonaws.com/t10k-images-idx3-ubyte.gz\n",
            "Downloading http://fashion-mnist.s3-website.eu-central-1.amazonaws.com/t10k-labels-idx1-ubyte.gz\n",
            "Processing...\n",
            "Done!\n"
          ],
          "name": "stdout"
        }
      ]
    },
    {
      "metadata": {
        "id": "BD_pZME4fx9h",
        "colab_type": "text"
      },
      "cell_type": "markdown",
      "source": [
        "Here I'll create a model like normal, using the same one from my solution for part 4."
      ]
    },
    {
      "metadata": {
        "id": "xqBFgTj4fx9j",
        "colab_type": "code",
        "colab": {}
      },
      "cell_type": "code",
      "source": [
        "from torch import nn, optim\n",
        "import torch.nn.functional as F\n",
        "\n",
        "class Classifier(nn.Module):\n",
        "    def __init__(self):\n",
        "        super().__init__()\n",
        "        self.fc1 = nn.Linear(784, 256)\n",
        "        self.fc2 = nn.Linear(256, 128)\n",
        "        self.fc3 = nn.Linear(128, 64)\n",
        "        self.fc4 = nn.Linear(64, 10)\n",
        "        \n",
        "    def forward(self, x):\n",
        "        # make sure input tensor is flattened\n",
        "        x = x.view(x.shape[0], -1)\n",
        "        \n",
        "        x = F.relu(self.fc1(x))\n",
        "        x = F.relu(self.fc2(x))\n",
        "        x = F.relu(self.fc3(x))\n",
        "        x = F.log_softmax(self.fc4(x), dim=1)\n",
        "        \n",
        "        return x"
      ],
      "execution_count": 0,
      "outputs": []
    },
    {
      "metadata": {
        "id": "NPxVf9KZfx9q",
        "colab_type": "text"
      },
      "cell_type": "markdown",
      "source": [
        "The goal of validation is to measure the model's performance on data that isn't part of the training set. Performance here is up to the developer to define though. Typically this is just accuracy, the percentage of classes the network predicted correctly. Other options are [precision and recall](https://en.wikipedia.org/wiki/Precision_and_recall#Definition_(classification_context)) and top-5 error rate. We'll focus on accuracy here. First I'll do a forward pass with one batch from the test set."
      ]
    },
    {
      "metadata": {
        "id": "egZYuceZfx9t",
        "colab_type": "code",
        "outputId": "c76df60d-014e-4588-926e-4b2a746cef70",
        "colab": {
          "base_uri": "https://localhost:8080/",
          "height": 2257
        }
      },
      "cell_type": "code",
      "source": [
        "model = Classifier()\n",
        "\n",
        "images, labels = next(iter(testloader))\n",
        "# Get the class probabilities\n",
        "ps = torch.exp(model(images))\n",
        "# Make sure the shape is appropriate, we should get 10 class probabilities for 64 examples\n",
        "print(ps.shape)\n",
        "\n",
        "print(ps)"
      ],
      "execution_count": 0,
      "outputs": [
        {
          "output_type": "stream",
          "text": [
            "torch.Size([64, 10])\n",
            "tensor([[0.1055, 0.0925, 0.1078, 0.0947, 0.0998, 0.1097, 0.1009, 0.1023, 0.0940,\n",
            "         0.0929],\n",
            "        [0.1042, 0.0949, 0.1047, 0.0934, 0.1014, 0.1155, 0.1018, 0.1036, 0.0856,\n",
            "         0.0950],\n",
            "        [0.1092, 0.0901, 0.1073, 0.0953, 0.0999, 0.1137, 0.1006, 0.0994, 0.0876,\n",
            "         0.0969],\n",
            "        [0.1061, 0.0927, 0.1077, 0.0970, 0.1010, 0.1130, 0.0977, 0.1013, 0.0860,\n",
            "         0.0974],\n",
            "        [0.1061, 0.0924, 0.1076, 0.0951, 0.1016, 0.1106, 0.0988, 0.1011, 0.0891,\n",
            "         0.0975],\n",
            "        [0.1031, 0.0940, 0.1042, 0.0940, 0.0995, 0.1119, 0.1026, 0.1055, 0.0918,\n",
            "         0.0933],\n",
            "        [0.1023, 0.0950, 0.1052, 0.0953, 0.0997, 0.1103, 0.1007, 0.1047, 0.0909,\n",
            "         0.0960],\n",
            "        [0.1037, 0.0929, 0.1068, 0.0926, 0.1006, 0.1144, 0.0991, 0.1026, 0.0920,\n",
            "         0.0954],\n",
            "        [0.1064, 0.0936, 0.1049, 0.0941, 0.1023, 0.1111, 0.0987, 0.1023, 0.0892,\n",
            "         0.0973],\n",
            "        [0.1048, 0.0925, 0.1067, 0.0939, 0.1018, 0.1113, 0.1010, 0.1007, 0.0917,\n",
            "         0.0954],\n",
            "        [0.1045, 0.0925, 0.1062, 0.0921, 0.1020, 0.1153, 0.1024, 0.0991, 0.0896,\n",
            "         0.0963],\n",
            "        [0.1043, 0.0936, 0.1047, 0.0957, 0.0969, 0.1135, 0.0992, 0.1037, 0.0912,\n",
            "         0.0973],\n",
            "        [0.1043, 0.0912, 0.1065, 0.0911, 0.1021, 0.1147, 0.1019, 0.1005, 0.0894,\n",
            "         0.0982],\n",
            "        [0.1060, 0.0946, 0.1051, 0.0934, 0.1001, 0.1142, 0.0998, 0.1007, 0.0888,\n",
            "         0.0972],\n",
            "        [0.1053, 0.0919, 0.1071, 0.0944, 0.1027, 0.1129, 0.0999, 0.1007, 0.0886,\n",
            "         0.0966],\n",
            "        [0.1050, 0.0951, 0.1033, 0.0932, 0.1011, 0.1117, 0.1014, 0.1028, 0.0914,\n",
            "         0.0950],\n",
            "        [0.1014, 0.0933, 0.1063, 0.0938, 0.1000, 0.1140, 0.1029, 0.1043, 0.0896,\n",
            "         0.0944],\n",
            "        [0.1078, 0.0904, 0.1088, 0.0972, 0.0987, 0.1097, 0.0965, 0.1035, 0.0931,\n",
            "         0.0942],\n",
            "        [0.1034, 0.0957, 0.1058, 0.0956, 0.1010, 0.1075, 0.0979, 0.1041, 0.0951,\n",
            "         0.0939],\n",
            "        [0.1063, 0.0927, 0.1063, 0.0961, 0.1013, 0.1097, 0.1001, 0.1026, 0.0887,\n",
            "         0.0962],\n",
            "        [0.1054, 0.0930, 0.1056, 0.0941, 0.1007, 0.1132, 0.0996, 0.1024, 0.0898,\n",
            "         0.0964],\n",
            "        [0.1065, 0.0918, 0.1072, 0.0914, 0.1017, 0.1128, 0.1011, 0.0999, 0.0892,\n",
            "         0.0983],\n",
            "        [0.1036, 0.0923, 0.1070, 0.0929, 0.1014, 0.1119, 0.1003, 0.1037, 0.0932,\n",
            "         0.0938],\n",
            "        [0.1053, 0.0918, 0.1043, 0.0951, 0.1001, 0.1141, 0.1028, 0.1021, 0.0866,\n",
            "         0.0978],\n",
            "        [0.1058, 0.0926, 0.1088, 0.0938, 0.1019, 0.1108, 0.0993, 0.0990, 0.0882,\n",
            "         0.0999],\n",
            "        [0.1075, 0.0912, 0.1076, 0.0931, 0.0979, 0.1131, 0.1010, 0.1024, 0.0925,\n",
            "         0.0937],\n",
            "        [0.1033, 0.0949, 0.1060, 0.0949, 0.1011, 0.1100, 0.1001, 0.1006, 0.0947,\n",
            "         0.0945],\n",
            "        [0.1064, 0.0952, 0.1080, 0.0934, 0.1015, 0.1092, 0.0971, 0.1007, 0.0919,\n",
            "         0.0965],\n",
            "        [0.1051, 0.0922, 0.1054, 0.0911, 0.1025, 0.1132, 0.0993, 0.1038, 0.0938,\n",
            "         0.0937],\n",
            "        [0.1058, 0.0924, 0.1063, 0.0943, 0.0986, 0.1142, 0.1006, 0.1017, 0.0886,\n",
            "         0.0974],\n",
            "        [0.1051, 0.0922, 0.1065, 0.0937, 0.0992, 0.1126, 0.1016, 0.1045, 0.0912,\n",
            "         0.0935],\n",
            "        [0.1025, 0.0934, 0.1082, 0.0914, 0.1016, 0.1127, 0.1003, 0.1013, 0.0938,\n",
            "         0.0949],\n",
            "        [0.1078, 0.0896, 0.1069, 0.0982, 0.0985, 0.1126, 0.0985, 0.1050, 0.0890,\n",
            "         0.0939],\n",
            "        [0.1067, 0.0934, 0.1069, 0.0945, 0.1002, 0.1121, 0.1006, 0.1026, 0.0901,\n",
            "         0.0930],\n",
            "        [0.1074, 0.0932, 0.1059, 0.0948, 0.1021, 0.1097, 0.1004, 0.1002, 0.0911,\n",
            "         0.0952],\n",
            "        [0.1063, 0.0913, 0.1067, 0.0921, 0.0991, 0.1131, 0.1001, 0.1028, 0.0962,\n",
            "         0.0922],\n",
            "        [0.1065, 0.0917, 0.1059, 0.0927, 0.1025, 0.1147, 0.0989, 0.1028, 0.0873,\n",
            "         0.0969],\n",
            "        [0.1039, 0.0933, 0.1078, 0.0930, 0.0988, 0.1120, 0.0997, 0.1037, 0.0936,\n",
            "         0.0941],\n",
            "        [0.1064, 0.0923, 0.1036, 0.0965, 0.1009, 0.1136, 0.1008, 0.1020, 0.0862,\n",
            "         0.0977],\n",
            "        [0.1023, 0.0930, 0.1094, 0.0940, 0.0985, 0.1126, 0.1006, 0.1010, 0.0916,\n",
            "         0.0972],\n",
            "        [0.1073, 0.0928, 0.1053, 0.0955, 0.1034, 0.1114, 0.0980, 0.1025, 0.0853,\n",
            "         0.0985],\n",
            "        [0.1045, 0.0944, 0.1084, 0.0937, 0.1007, 0.1096, 0.1009, 0.1008, 0.0909,\n",
            "         0.0961],\n",
            "        [0.1026, 0.0935, 0.1072, 0.0963, 0.1006, 0.1082, 0.0970, 0.1034, 0.0946,\n",
            "         0.0967],\n",
            "        [0.1068, 0.0917, 0.1022, 0.0960, 0.0990, 0.1159, 0.1026, 0.1027, 0.0869,\n",
            "         0.0963],\n",
            "        [0.1069, 0.0921, 0.1053, 0.0972, 0.1018, 0.1143, 0.0984, 0.1021, 0.0850,\n",
            "         0.0968],\n",
            "        [0.1045, 0.0929, 0.1064, 0.0947, 0.1028, 0.1109, 0.1002, 0.0991, 0.0898,\n",
            "         0.0986],\n",
            "        [0.1083, 0.0925, 0.1038, 0.0964, 0.1026, 0.1126, 0.0982, 0.1034, 0.0852,\n",
            "         0.0970],\n",
            "        [0.1060, 0.0913, 0.1064, 0.0911, 0.1030, 0.1147, 0.1008, 0.1004, 0.0867,\n",
            "         0.0997],\n",
            "        [0.1034, 0.0926, 0.1074, 0.0944, 0.0998, 0.1154, 0.1003, 0.1005, 0.0917,\n",
            "         0.0946],\n",
            "        [0.1040, 0.0911, 0.1058, 0.0916, 0.1025, 0.1159, 0.1013, 0.1010, 0.0888,\n",
            "         0.0981],\n",
            "        [0.1041, 0.0943, 0.1056, 0.0936, 0.0995, 0.1123, 0.0997, 0.1046, 0.0933,\n",
            "         0.0929],\n",
            "        [0.1058, 0.0927, 0.1058, 0.0949, 0.1032, 0.1108, 0.0987, 0.1001, 0.0907,\n",
            "         0.0973],\n",
            "        [0.1065, 0.0909, 0.1064, 0.0933, 0.0997, 0.1134, 0.1008, 0.1036, 0.0920,\n",
            "         0.0934],\n",
            "        [0.1060, 0.0913, 0.1080, 0.0960, 0.1030, 0.1151, 0.0981, 0.1015, 0.0850,\n",
            "         0.0959],\n",
            "        [0.1065, 0.0931, 0.1065, 0.0945, 0.1026, 0.1099, 0.0987, 0.1030, 0.0879,\n",
            "         0.0971],\n",
            "        [0.1018, 0.0948, 0.1067, 0.0937, 0.1011, 0.1084, 0.0994, 0.1042, 0.0930,\n",
            "         0.0969],\n",
            "        [0.1035, 0.0936, 0.1068, 0.0969, 0.1008, 0.1094, 0.0974, 0.1025, 0.0924,\n",
            "         0.0966],\n",
            "        [0.0997, 0.0973, 0.1058, 0.0960, 0.0986, 0.1072, 0.0982, 0.1058, 0.0967,\n",
            "         0.0947],\n",
            "        [0.1032, 0.0929, 0.1066, 0.0948, 0.0985, 0.1109, 0.1016, 0.1061, 0.0928,\n",
            "         0.0926],\n",
            "        [0.1038, 0.0936, 0.1062, 0.0953, 0.1006, 0.1144, 0.0996, 0.1010, 0.0888,\n",
            "         0.0969],\n",
            "        [0.1054, 0.0933, 0.1058, 0.0932, 0.0995, 0.1130, 0.1021, 0.1026, 0.0896,\n",
            "         0.0955],\n",
            "        [0.1035, 0.0926, 0.1065, 0.0954, 0.1000, 0.1136, 0.1011, 0.1018, 0.0905,\n",
            "         0.0949],\n",
            "        [0.1031, 0.0945, 0.1072, 0.0964, 0.1007, 0.1092, 0.0991, 0.1029, 0.0904,\n",
            "         0.0964],\n",
            "        [0.1044, 0.0902, 0.1081, 0.0930, 0.1002, 0.1137, 0.1020, 0.1014, 0.0905,\n",
            "         0.0964]], grad_fn=<ExpBackward>)\n"
          ],
          "name": "stdout"
        }
      ]
    },
    {
      "metadata": {
        "id": "cO3AyNr7fx93",
        "colab_type": "text"
      },
      "cell_type": "markdown",
      "source": [
        "With the probabilities, we can get the most likely class using the `ps.topk` method. This returns the $k$ highest values. Since we just want the most likely class, we can use `ps.topk(1)`. This returns a tuple of the top-$k$ values and the top-$k$ indices. If the highest value is the fifth element, we'll get back 4 as the index."
      ]
    },
    {
      "metadata": {
        "id": "x5arjPf9fx96",
        "colab_type": "code",
        "outputId": "a500dee7-807a-4008-cec8-4a9d8490fcda",
        "colab": {
          "base_uri": "https://localhost:8080/",
          "height": 191
        }
      },
      "cell_type": "code",
      "source": [
        "top_p, top_class = ps.topk(1, dim=1)\n",
        "# Look at the most likely classes for the first 10 examples\n",
        "print(top_class[:10,:])"
      ],
      "execution_count": 0,
      "outputs": [
        {
          "output_type": "stream",
          "text": [
            "tensor([[5],\n",
            "        [5],\n",
            "        [5],\n",
            "        [5],\n",
            "        [5],\n",
            "        [5],\n",
            "        [5],\n",
            "        [5],\n",
            "        [5],\n",
            "        [5]])\n"
          ],
          "name": "stdout"
        }
      ]
    },
    {
      "metadata": {
        "id": "zMd6cVlnfx-B",
        "colab_type": "text"
      },
      "cell_type": "markdown",
      "source": [
        "Now we can check if the predicted classes match the labels. This is simple to do by equating `top_class` and `labels`, but we have to be careful of the shapes. Here `top_class` is a 2D tensor with shape `(64, 1)` while `labels` is 1D with shape `(64)`. To get the equality to work out the way we want, `top_class` and `labels` must have the same shape.\n",
        "\n",
        "If we do\n",
        "\n",
        "```python\n",
        "equals = top_class == labels\n",
        "```\n",
        "\n",
        "`equals` will have shape `(64, 64)`, try it yourself. What it's doing is comparing the one element in each row of `top_class` with each element in `labels` which returns 64 True/False boolean values for each row."
      ]
    },
    {
      "metadata": {
        "id": "UIn42Frcfx-E",
        "colab_type": "code",
        "colab": {}
      },
      "cell_type": "code",
      "source": [
        "equals = top_class == labels.view(*top_class.shape)"
      ],
      "execution_count": 0,
      "outputs": []
    },
    {
      "metadata": {
        "id": "MrV9Tm5Wfx-O",
        "colab_type": "text"
      },
      "cell_type": "markdown",
      "source": [
        "Now we need to calculate the percentage of correct predictions. `equals` has binary values, either 0 or 1. This means that if we just sum up all the values and divide by the number of values, we get the percentage of correct predictions. This is the same operation as taking the mean, so we can get the accuracy with a call to `torch.mean`. If only it was that simple. If you try `torch.mean(equals)`, you'll get an error\n",
        "\n",
        "```\n",
        "RuntimeError: mean is not implemented for type torch.ByteTensor\n",
        "```\n",
        "\n",
        "This happens because `equals` has type `torch.ByteTensor` but `torch.mean` isn't implemented for tensors with that type. So we'll need to convert `equals` to a float tensor. Note that when we take `torch.mean` it returns a scalar tensor, to get the actual value as a float we'll need to do `accuracy.item()`."
      ]
    },
    {
      "metadata": {
        "id": "wjCsHSvQfx-Q",
        "colab_type": "code",
        "outputId": "bba1311e-cbc8-4405-ceb9-f8294942db8d",
        "colab": {
          "base_uri": "https://localhost:8080/",
          "height": 34
        }
      },
      "cell_type": "code",
      "source": [
        "accuracy = torch.mean(equals.type(torch.FloatTensor))\n",
        "print(f'Accuracy: {accuracy.item()*100}%')"
      ],
      "execution_count": 0,
      "outputs": [
        {
          "output_type": "stream",
          "text": [
            "Accuracy: 9.375%\n"
          ],
          "name": "stdout"
        }
      ]
    },
    {
      "metadata": {
        "id": "ytIhBlf_fx-b",
        "colab_type": "text"
      },
      "cell_type": "markdown",
      "source": [
        "The network is untrained so it's making random guesses and we should see an accuracy around 10%. Now let's train our network and include our validation pass so we can measure how well the network is performing on the test set. Since we're not updating our parameters in the validation pass, we can speed up our code by turning off gradients using `torch.no_grad()`:\n",
        "\n",
        "```python\n",
        "# turn off gradients\n",
        "with torch.no_grad():\n",
        "    # validation pass here\n",
        "    for images, labels in testloader:\n",
        "        ...\n",
        "```\n",
        "\n",
        ">**Exercise:** Implement the validation loop below and print out the total accuracy after the loop. You can largely copy and paste the code from above, but I suggest typing it in because writing it out yourself is essential for building the skill. In general you'll always learn more by typing it rather than copy-pasting. You should be able to get an accuracy above 80%."
      ]
    },
    {
      "metadata": {
        "id": "EJ0zjntWfx-f",
        "colab_type": "code",
        "outputId": "a5c2ac0c-8650-4352-929e-76e854042857",
        "colab": {
          "base_uri": "https://localhost:8080/",
          "height": 538
        }
      },
      "cell_type": "code",
      "source": [
        "model = Classifier()\n",
        "criterion = nn.NLLLoss()\n",
        "optimizer = optim.Adam(model.parameters(), lr=0.003)\n",
        "\n",
        "epochs = 30\n",
        "steps = 0\n",
        "\n",
        "train_losses, test_losses = [], []\n",
        "for e in range(epochs):\n",
        "    running_loss = 0\n",
        "    for images, labels in trainloader:\n",
        "        \n",
        "        optimizer.zero_grad()\n",
        "        \n",
        "        log_ps = model(images)\n",
        "        loss = criterion(log_ps, labels)\n",
        "        loss.backward()\n",
        "        optimizer.step()\n",
        "        \n",
        "        running_loss += loss.item()\n",
        "        \n",
        "    else:\n",
        "        test_loss = 0\n",
        "        accuracy = 0\n",
        "        with torch.no_grad():\n",
        "            # validation pass here\n",
        "            for images, labels in testloader:\n",
        "                log_ps = model(images)\n",
        "                test_loss += criterion(log_ps, labels)\n",
        "                \n",
        "                ps = torch.exp(log_ps)\n",
        "                top_p, top_class = ps.topk(1, dim=1)\n",
        "                equals = top_class == labels.view(*top_class.shape)\n",
        "                accuracy += torch.mean(equals.type(torch.FloatTensor))\n",
        "                \n",
        "        train_losses.append(running_loss/len(trainloader))\n",
        "        test_losses.append(test_loss/len(testloader))\n",
        "        \n",
        "        ## TODO: Implement the validation pass and print out the validation accuracy\n",
        "        print(\"Epoch {}/{}\".format(e+1, epochs),\n",
        "             \"Training Loss: {:.3f}..\".format(running_loss/len(trainloader)),\n",
        "             \"Test Loss: {:.3f}..\".format(test_loss/len(testloader)),\n",
        "             \"Test Accuracy: {:.3f}\".format(accuracy/len(testloader)))"
      ],
      "execution_count": 0,
      "outputs": [
        {
          "output_type": "stream",
          "text": [
            "Epoch 1/30 Training Loss: 0.519.. Test Loss: 0.467.. Test Accuracy: 0.833\n",
            "Epoch 2/30 Training Loss: 0.395.. Test Loss: 0.414.. Test Accuracy: 0.854\n",
            "Epoch 3/30 Training Loss: 0.357.. Test Loss: 0.373.. Test Accuracy: 0.868\n",
            "Epoch 4/30 Training Loss: 0.335.. Test Loss: 0.380.. Test Accuracy: 0.863\n",
            "Epoch 5/30 Training Loss: 0.317.. Test Loss: 0.384.. Test Accuracy: 0.867\n",
            "Epoch 6/30 Training Loss: 0.302.. Test Loss: 0.376.. Test Accuracy: 0.872\n",
            "Epoch 7/30 Training Loss: 0.292.. Test Loss: 0.425.. Test Accuracy: 0.859\n",
            "Epoch 8/30 Training Loss: 0.285.. Test Loss: 0.386.. Test Accuracy: 0.866\n",
            "Epoch 9/30 Training Loss: 0.275.. Test Loss: 0.356.. Test Accuracy: 0.875\n",
            "Epoch 10/30 Training Loss: 0.265.. Test Loss: 0.362.. Test Accuracy: 0.876\n",
            "Epoch 11/30 Training Loss: 0.259.. Test Loss: 0.360.. Test Accuracy: 0.878\n",
            "Epoch 12/30 Training Loss: 0.255.. Test Loss: 0.369.. Test Accuracy: 0.877\n",
            "Epoch 13/30 Training Loss: 0.246.. Test Loss: 0.358.. Test Accuracy: 0.882\n",
            "Epoch 14/30 Training Loss: 0.244.. Test Loss: 0.352.. Test Accuracy: 0.882\n",
            "Epoch 15/30 Training Loss: 0.235.. Test Loss: 0.371.. Test Accuracy: 0.878\n",
            "Epoch 16/30 Training Loss: 0.231.. Test Loss: 0.380.. Test Accuracy: 0.880\n",
            "Epoch 17/30 Training Loss: 0.229.. Test Loss: 0.370.. Test Accuracy: 0.878\n",
            "Epoch 18/30 Training Loss: 0.220.. Test Loss: 0.408.. Test Accuracy: 0.873\n",
            "Epoch 19/30 Training Loss: 0.216.. Test Loss: 0.408.. Test Accuracy: 0.879\n",
            "Epoch 20/30 Training Loss: 0.213.. Test Loss: 0.371.. Test Accuracy: 0.886\n",
            "Epoch 21/30 Training Loss: 0.209.. Test Loss: 0.396.. Test Accuracy: 0.879\n",
            "Epoch 22/30 Training Loss: 0.207.. Test Loss: 0.383.. Test Accuracy: 0.882\n",
            "Epoch 23/30 Training Loss: 0.199.. Test Loss: 0.400.. Test Accuracy: 0.885\n",
            "Epoch 24/30 Training Loss: 0.197.. Test Loss: 0.390.. Test Accuracy: 0.883\n",
            "Epoch 25/30 Training Loss: 0.194.. Test Loss: 0.401.. Test Accuracy: 0.882\n",
            "Epoch 26/30 Training Loss: 0.196.. Test Loss: 0.399.. Test Accuracy: 0.876\n",
            "Epoch 27/30 Training Loss: 0.193.. Test Loss: 0.410.. Test Accuracy: 0.882\n",
            "Epoch 28/30 Training Loss: 0.186.. Test Loss: 0.427.. Test Accuracy: 0.881\n",
            "Epoch 29/30 Training Loss: 0.186.. Test Loss: 0.410.. Test Accuracy: 0.883\n",
            "Epoch 30/30 Training Loss: 0.182.. Test Loss: 0.434.. Test Accuracy: 0.880\n"
          ],
          "name": "stdout"
        }
      ]
    },
    {
      "metadata": {
        "id": "_tt0_huy1Ri-",
        "colab_type": "code",
        "outputId": "3c586985-102a-469c-dd41-717c5c3ba7b4",
        "colab": {
          "base_uri": "https://localhost:8080/",
          "height": 347
        }
      },
      "cell_type": "code",
      "source": [
        "import matplotlib.pyplot as plt\n",
        "\n",
        "plt.plot(train_losses, label='Training loss')\n",
        "plt.plot(test_losses, label='Test loss')\n",
        "plt.legend(frameon=False)\n",
        "\n",
        "plt.show()"
      ],
      "execution_count": 0,
      "outputs": [
        {
          "output_type": "display_data",
          "data": {
            "image/png": "[encoded data removed]",
            "text/plain": [
              "<matplotlib.figure.Figure at 0x7fde9e77b6a0>"
            ]
          },
          "metadata": {
            "tags": []
          }
        }
      ]
    },
    {
      "metadata": {
        "id": "3NeTSx2Wfx-l",
        "colab_type": "text"
      },
      "cell_type": "markdown",
      "source": [
        "## Overfitting\n",
        "\n",
        "If we look at the training and validation losses as we train the network, we can see a phenomenon known as overfitting.\n",
        "\n",
        "<img src='https://github.com/Baidaly/FORK_deep-learning-v2-pytorch/blob/master/intro-to-pytorch/assets/overfitting.png?raw=1' width=450px>\n",
        "\n",
        "The network learns the training set better and better, resulting in lower training losses. However, it starts having problems generalizing to data outside the training set leading to the validation loss increasing. The ultimate goal of any deep learning model is to make predictions on new data, so we should strive to get the lowest validation loss possible. One option is to use the version of the model with the lowest validation loss, here the one around 8-10 training epochs. This strategy is called *early-stopping*. In practice, you'd save the model frequently as you're training then later choose the model with the lowest validation loss.\n",
        "\n",
        "The most common method to reduce overfitting (outside of early-stopping) is *dropout*, where we randomly drop input units. This forces the network to share information between weights, increasing it's ability to generalize to new data. Adding dropout in PyTorch is straightforward using the [`nn.Dropout`](https://pytorch.org/docs/stable/nn.html#torch.nn.Dropout) module.\n",
        "\n",
        "```python\n",
        "class Classifier(nn.Module):\n",
        "    def __init__(self):\n",
        "        super().__init__()\n",
        "        self.fc1 = nn.Linear(784, 256)\n",
        "        self.fc2 = nn.Linear(256, 128)\n",
        "        self.fc3 = nn.Linear(128, 64)\n",
        "        self.fc4 = nn.Linear(64, 10)\n",
        "        \n",
        "        # Dropout module with 0.2 drop probability\n",
        "        self.dropout = nn.Dropout(p=0.2)\n",
        "        \n",
        "    def forward(self, x):\n",
        "        # make sure input tensor is flattened\n",
        "        x = x.view(x.shape[0], -1)\n",
        "        \n",
        "        # Now with dropout\n",
        "        x = self.dropout(F.relu(self.fc1(x)))\n",
        "        x = self.dropout(F.relu(self.fc2(x)))\n",
        "        x = self.dropout(F.relu(self.fc3(x)))\n",
        "        \n",
        "        # output so no dropout here\n",
        "        x = F.log_softmax(self.fc4(x), dim=1)\n",
        "        \n",
        "        return x\n",
        "```\n",
        "\n",
        "During training we want to use dropout to prevent overfitting, but during inference we want to use the entire network. So, we need to turn off dropout during validation, testing, and whenever we're using the network to make predictions. To do this, you use `model.eval()`. This sets the model to evaluation mode where the dropout probability is 0. You can turn dropout back on by setting the model to train mode with `model.train()`. In general, the pattern for the validation loop will look like this, where you turn off gradients, set the model to evaluation mode, calculate the validation loss and metric, then set the model back to train mode.\n",
        "\n",
        "```python\n",
        "# turn off gradients\n",
        "with torch.no_grad():\n",
        "    \n",
        "    # set model to evaluation mode\n",
        "    model.eval()\n",
        "    \n",
        "    # validation pass here\n",
        "    for images, labels in testloader:\n",
        "        ...\n",
        "\n",
        "# set model back to train mode\n",
        "model.train()\n",
        "```"
      ]
    },
    {
      "metadata": {
        "id": "q_n8GllMfx-n",
        "colab_type": "text"
      },
      "cell_type": "markdown",
      "source": [
        "> **Exercise:** Add dropout to your model and train it on Fashion-MNIST again. See if you can get a lower validation loss or higher accuracy."
      ]
    },
    {
      "metadata": {
        "id": "1e1nZGjQfx-p",
        "colab_type": "code",
        "colab": {}
      },
      "cell_type": "code",
      "source": [
        "class DropoutClassifier(nn.Module):\n",
        "    def __init__(self):\n",
        "        super().__init__()\n",
        "        self.fc1 = nn.Linear(784, 256)\n",
        "        self.fc2 = nn.Linear(256, 128)\n",
        "        self.fc3 = nn.Linear(128, 64)\n",
        "        self.fc4 = nn.Linear(64, 10)\n",
        "        \n",
        "        self.dropout = nn.Dropout(p=0.2)\n",
        "        \n",
        "    def forward(self, x):\n",
        "        x = x.view(x.shape[0], -1)\n",
        "        \n",
        "        x = self.dropout(F.relu(self.fc1(x)))\n",
        "        x = self.dropout(F.relu(self.fc2(x)))\n",
        "        x = self.dropout(F.relu(self.fc3(x)))\n",
        "        \n",
        "        x = F.log_softmax(self.fc4(x), dim=1)\n",
        "        \n",
        "        return x\n",
        "        "
      ],
      "execution_count": 0,
      "outputs": []
    },
    {
      "metadata": {
        "id": "wO8PlzTOfx-u",
        "colab_type": "code",
        "colab": {
          "base_uri": "https://localhost:8080/",
          "height": 538
        },
        "outputId": "706b8c83-6a94-4bab-d2aa-af08dd6d88a8"
      },
      "cell_type": "code",
      "source": [
        "model = DropoutClassifier()\n",
        "criterion = nn.NLLLoss()\n",
        "optimizer = optim.Adam(model.parameters(), lr=0.0003)\n",
        "\n",
        "epochs = 30\n",
        "steps = 0\n",
        "\n",
        "train_losses, test_losses = [], []\n",
        "\n",
        "for e in range(epochs):\n",
        "    running_loss = 0\n",
        "    for images, labels in trainloader:\n",
        "        optimizer.zero_grad()\n",
        "        log_ps = model(images)\n",
        "        loss = criterion(log_ps, labels)\n",
        "        loss.backward()\n",
        "        optimizer.step()\n",
        "        \n",
        "        running_loss += loss.item()\n",
        "    else:\n",
        "        test_loss = 0\n",
        "        accuracy = 0\n",
        "        with torch.no_grad():\n",
        "            for images, labels in testloader:\n",
        "                log_ps = model(images)\n",
        "                test_loss += criterion(log_ps, labels)\n",
        "                \n",
        "                ps = torch.exp(log_ps)\n",
        "                top_p, top_class = ps.topk(1, dim=1)\n",
        "                equals = top_class == labels.view(*top_class.shape)\n",
        "                accuracy += torch.mean(equals.type(torch.FloatTensor))\n",
        "                \n",
        "        train_losses.append(running_loss/len(trainloader))\n",
        "        test_losses.append(test_loss/len(testloader))\n",
        "        \n",
        "        print(\"Epoch: {}/{}\".format(e+1, epochs),\n",
        "             \"Training loss: {:.3f}..\".format(running_loss/len(trainloader)),\n",
        "             \"Testing loss: {:.3f}..\".format(test_loss/len(testloader)),\n",
        "             \"Test accuracy: {:.3f}..\".format(accuracy/len(testloader)))"
      ],
      "execution_count": 12,
      "outputs": [
        {
          "output_type": "stream",
          "text": [
            "Epoch: 1/30 Training loss: 0.700.. Testing loss: 0.540.. Test accuracy: 0.808..\n",
            "Epoch: 2/30 Training loss: 0.459.. Testing loss: 0.462.. Test accuracy: 0.835..\n",
            "Epoch: 3/30 Training loss: 0.413.. Testing loss: 0.459.. Test accuracy: 0.835..\n",
            "Epoch: 4/30 Training loss: 0.384.. Testing loss: 0.417.. Test accuracy: 0.854..\n",
            "Epoch: 5/30 Training loss: 0.362.. Testing loss: 0.401.. Test accuracy: 0.857..\n",
            "Epoch: 6/30 Training loss: 0.345.. Testing loss: 0.401.. Test accuracy: 0.863..\n",
            "Epoch: 7/30 Training loss: 0.332.. Testing loss: 0.384.. Test accuracy: 0.871..\n",
            "Epoch: 8/30 Training loss: 0.318.. Testing loss: 0.378.. Test accuracy: 0.864..\n",
            "Epoch: 9/30 Training loss: 0.308.. Testing loss: 0.372.. Test accuracy: 0.870..\n",
            "Epoch: 10/30 Training loss: 0.301.. Testing loss: 0.369.. Test accuracy: 0.870..\n",
            "Epoch: 11/30 Training loss: 0.291.. Testing loss: 0.366.. Test accuracy: 0.874..\n",
            "Epoch: 12/30 Training loss: 0.283.. Testing loss: 0.368.. Test accuracy: 0.877..\n",
            "Epoch: 13/30 Training loss: 0.277.. Testing loss: 0.372.. Test accuracy: 0.870..\n",
            "Epoch: 14/30 Training loss: 0.271.. Testing loss: 0.362.. Test accuracy: 0.878..\n",
            "Epoch: 15/30 Training loss: 0.262.. Testing loss: 0.362.. Test accuracy: 0.876..\n",
            "Epoch: 16/30 Training loss: 0.258.. Testing loss: 0.358.. Test accuracy: 0.879..\n",
            "Epoch: 17/30 Training loss: 0.252.. Testing loss: 0.370.. Test accuracy: 0.875..\n",
            "Epoch: 18/30 Training loss: 0.248.. Testing loss: 0.355.. Test accuracy: 0.876..\n",
            "Epoch: 19/30 Training loss: 0.244.. Testing loss: 0.347.. Test accuracy: 0.884..\n",
            "Epoch: 20/30 Training loss: 0.236.. Testing loss: 0.358.. Test accuracy: 0.880..\n",
            "Epoch: 21/30 Training loss: 0.233.. Testing loss: 0.376.. Test accuracy: 0.876..\n",
            "Epoch: 22/30 Training loss: 0.230.. Testing loss: 0.370.. Test accuracy: 0.878..\n",
            "Epoch: 23/30 Training loss: 0.223.. Testing loss: 0.364.. Test accuracy: 0.880..\n",
            "Epoch: 24/30 Training loss: 0.219.. Testing loss: 0.377.. Test accuracy: 0.880..\n",
            "Epoch: 25/30 Training loss: 0.215.. Testing loss: 0.380.. Test accuracy: 0.878..\n",
            "Epoch: 26/30 Training loss: 0.214.. Testing loss: 0.363.. Test accuracy: 0.881..\n",
            "Epoch: 27/30 Training loss: 0.207.. Testing loss: 0.366.. Test accuracy: 0.880..\n",
            "Epoch: 28/30 Training loss: 0.205.. Testing loss: 0.357.. Test accuracy: 0.883..\n",
            "Epoch: 29/30 Training loss: 0.204.. Testing loss: 0.360.. Test accuracy: 0.883..\n",
            "Epoch: 30/30 Training loss: 0.197.. Testing loss: 0.369.. Test accuracy: 0.882..\n"
          ],
          "name": "stdout"
        }
      ]
    },
    {
      "metadata": {
        "id": "ieaxS4Hqjr5z",
        "colab_type": "code",
        "colab": {
          "base_uri": "https://localhost:8080/",
          "height": 347
        },
        "outputId": "c8377547-be5b-4de6-a7c1-94e04f12c515"
      },
      "cell_type": "code",
      "source": [
        "import matplotlib.pyplot as plt\n",
        "\n",
        "plt.plot(train_losses, label='Training loss')\n",
        "plt.plot(test_losses, label='Test loss')\n",
        "plt.legend(frameon=False)\n",
        "\n",
        "plt.show()"
      ],
      "execution_count": 13,
      "outputs": [
        {
          "output_type": "display_data",
          "data": {
            "image/png": "[encoded data removed]",
            "text/plain": [
              "<matplotlib.figure.Figure at 0x7f652311ce80>"
            ]
          },
          "metadata": {
            "tags": []
          }
        }
      ]
    },
    {
      "metadata": {
        "id": "z6Bs0INnfx-0",
        "colab_type": "text"
      },
      "cell_type": "markdown",
      "source": [
        "## Inference\n",
        "\n",
        "Now that the model is trained, we can use it for inference. We've done this before, but now we need to remember to set the model in inference mode with `model.eval()`. You'll also want to turn off autograd with the `torch.no_grad()` context."
      ]
    },
    {
      "metadata": {
        "id": "WyC5Hk1Jfx-2",
        "colab_type": "code",
        "outputId": "29840f42-9376-4c82-c5f1-865db2d9b832",
        "colab": {
          "base_uri": "https://localhost:8080/",
          "height": 221
        }
      },
      "cell_type": "code",
      "source": [
        "import numpy as np\n",
        "def view_classify(img, ps, version=\"MNIST\"):\n",
        "    ''' Function for viewing an image and it's predicted classes.\n",
        "    '''\n",
        "    ps = ps.data.numpy().squeeze()\n",
        "\n",
        "    fig, (ax1, ax2) = plt.subplots(figsize=(6,9), ncols=2)\n",
        "    ax1.imshow(img.resize_(1, 28, 28).numpy().squeeze())\n",
        "    ax1.axis('off')\n",
        "    ax2.barh(np.arange(10), ps)\n",
        "    ax2.set_aspect(0.1)\n",
        "    ax2.set_yticks(np.arange(10))\n",
        "    if version == \"MNIST\":\n",
        "        ax2.set_yticklabels(np.arange(10))\n",
        "    elif version == \"Fashion\":\n",
        "        ax2.set_yticklabels(['T-shirt/top',\n",
        "                            'Trouser',\n",
        "                            'Pullover',\n",
        "                            'Dress',\n",
        "                            'Coat',\n",
        "                            'Sandal',\n",
        "                            'Shirt',\n",
        "                            'Sneaker',\n",
        "                            'Bag',\n",
        "                            'Ankle Boot'], size='small');\n",
        "    ax2.set_title('Class Probability')\n",
        "    ax2.set_xlim(0, 1.1)\n",
        "\n",
        "    plt.tight_layout()\n",
        "\n",
        "\n",
        "# Test out your network!\n",
        "\n",
        "model.eval()\n",
        "\n",
        "dataiter = iter(testloader)\n",
        "images, labels = dataiter.next()\n",
        "img = images[0]\n",
        "# Convert 2D image to 1D vector\n",
        "img = img.view(1, 784)\n",
        "\n",
        "# Calculate the class probabilities (softmax) for img\n",
        "with torch.no_grad():\n",
        "    output = model.forward(img)\n",
        "\n",
        "ps = torch.exp(output)\n",
        "\n",
        "# Plot the image and probabilities\n",
        "view_classify(img.view(1, 28, 28), ps, version='Fashion')"
      ],
      "execution_count": 18,
      "outputs": [
        {
          "output_type": "display_data",
          "data": {
            "image/png": "[encoded data removed]",
            "text/plain": [
              "<matplotlib.figure.Figure at 0x7f6520a229e8>"
            ]
          },
          "metadata": {
            "tags": []
          }
        }
      ]
    },
    {
      "metadata": {
        "id": "eEDB0oFUfx_A",
        "colab_type": "text"
      },
      "cell_type": "markdown",
      "source": [
        "## Next Up!\n",
        "\n",
        "In the next part, I'll show you how to save your trained models. In general, you won't want to train a model everytime you need it. Instead, you'll train once, save it, then load the model when you want to train more or use if for inference."
      ]
    }
  ]
}