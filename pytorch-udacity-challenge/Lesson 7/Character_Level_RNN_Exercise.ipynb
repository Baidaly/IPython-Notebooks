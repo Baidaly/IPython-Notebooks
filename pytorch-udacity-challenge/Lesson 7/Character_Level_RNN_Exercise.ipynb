{
  "nbformat": 4,
  "nbformat_minor": 0,
  "metadata": {
    "colab": {
      "name": "Copy of Character_Level_RNN_Exercise.ipynb",
      "version": "0.3.2",
      "provenance": [],
      "toc_visible": true,
      "include_colab_link": true
    },
    "kernelspec": {
      "name": "python3",
      "display_name": "Python 3"
    },
    "accelerator": "GPU"
  },
  "cells": [
    {
      "cell_type": "markdown",
      "metadata": {
        "id": "view-in-github",
        "colab_type": "text"
      },
      "source": [
        "<a href=\"https://colab.research.google.com/github/Baidaly/IPython-Notebooks/blob/master/pytorch-udacity-challenge/Lesson%207/Character_Level_RNN_Exercise.ipynb\" target=\"_parent\"><img src=\"https://colab.research.google.com/assets/colab-badge.svg\" alt=\"Open In Colab\"/></a>"
      ]
    },
    {
      "metadata": {
        "id": "3vzjkqRDGUiV",
        "colab_type": "text"
      },
      "cell_type": "markdown",
      "source": [
        "# Character-Level LSTM in PyTorch\n",
        "\n",
        "In this notebook, I'll construct a character-level LSTM with PyTorch. The network will train character by character on some text, then generate new text character by character. As an example, I will train on Anna Karenina. **This model will be able to generate new text based on the text from the book!**\n",
        "\n",
        "This network is based off of Andrej Karpathy's [post on RNNs](http://karpathy.github.io/2015/05/21/rnn-effectiveness/) and [implementation in Torch](https://github.com/karpathy/char-rnn). Below is the general architecture of the character-wise RNN.\n",
        "\n",
        "<img src=\"https://github.com/Baidaly/FORK_deep-learning-v2-pytorch/blob/master/recurrent-neural-networks/char-rnn/assets/charseq.jpeg?raw=1\" width=\"500\">"
      ]
    },
    {
      "metadata": {
        "id": "Fyes3aVRbyD8",
        "colab_type": "code",
        "colab": {}
      },
      "cell_type": "code",
      "source": [
        "# http://pytorch.org/\n",
        "from os.path import exists\n",
        "from wheel.pep425tags import get_abbr_impl, get_impl_ver, get_abi_tag\n",
        "platform = '{}{}-{}'.format(get_abbr_impl(), get_impl_ver(), get_abi_tag())\n",
        "cuda_output = !ldconfig -p|grep cudart.so|sed -e 's/.*\\.\\([0-9]*\\)\\.\\([0-9]*\\)$/cu\\1\\2/'\n",
        "accelerator = cuda_output[0] if exists('/dev/nvidia0') else 'cpu'\n",
        "\n",
        "!pip install -q http://download.pytorch.org/whl/{accelerator}/torch-0.4.1-{platform}-linux_x86_64.whl torchvision\n",
        "import torch"
      ],
      "execution_count": 0,
      "outputs": []
    },
    {
      "metadata": {
        "id": "GMEDp4lWGUie",
        "colab_type": "text"
      },
      "cell_type": "markdown",
      "source": [
        "First let's load in our required resources for data loading and model creation."
      ]
    },
    {
      "metadata": {
        "id": "ULC8Hf6yGUii",
        "colab_type": "code",
        "colab": {}
      },
      "cell_type": "code",
      "source": [
        "import numpy as np\n",
        "import torch\n",
        "from torch import nn\n",
        "import torch.nn.functional as F\n",
        "import urllib.request"
      ],
      "execution_count": 0,
      "outputs": []
    },
    {
      "metadata": {
        "id": "lVILNCE6GUiy",
        "colab_type": "text"
      },
      "cell_type": "markdown",
      "source": [
        "## Load in Data\n",
        "\n",
        "Then, we'll load the Anna Karenina text file and convert it into integers for our network to use. "
      ]
    },
    {
      "metadata": {
        "id": "qKy2TFjJGUi3",
        "colab_type": "code",
        "colab": {}
      },
      "cell_type": "code",
      "source": [
        "url = 'https://raw.githubusercontent.com/Baidaly/IPython-Notebooks/master/pytorch-udacity-challenge/Lesson%207/anna.txt'\n",
        "response = urllib.request.urlopen(url)\n",
        "data = response.read()      # a `bytes` object\n",
        "text = data.decode('utf-8') # a `str`; this step can't be used if data is binary"
      ],
      "execution_count": 0,
      "outputs": []
    },
    {
      "metadata": {
        "id": "JmLRrZtDGUjE",
        "colab_type": "text"
      },
      "cell_type": "markdown",
      "source": [
        "Let's check out the first 100 characters, make sure everything is peachy. According to the [American Book Review](http://americanbookreview.org/100bestlines.asp), this is the 6th best first line of a book ever."
      ]
    },
    {
      "metadata": {
        "id": "pJ4KPomCGUjI",
        "colab_type": "code",
        "colab": {
          "base_uri": "https://localhost:8080/",
          "height": 34
        },
        "outputId": "17788460-d5c5-4f13-afbb-b3b9515a8fe3"
      },
      "cell_type": "code",
      "source": [
        "text[:100]"
      ],
      "execution_count": 4,
      "outputs": [
        {
          "output_type": "execute_result",
          "data": {
            "text/plain": [
              "'Chapter 1\\n\\n\\nHappy families are all alike; every unhappy family is unhappy in its own\\nway.\\n\\nEverythin'"
            ]
          },
          "metadata": {
            "tags": []
          },
          "execution_count": 4
        }
      ]
    },
    {
      "metadata": {
        "id": "h0-4J4odGUjR",
        "colab_type": "text"
      },
      "cell_type": "markdown",
      "source": [
        "### Tokenization\n",
        "\n",
        "In the cells, below, I'm creating a couple **dictionaries** to convert the characters to and from integers. Encoding the characters as integers makes it easier to use as input in the network."
      ]
    },
    {
      "metadata": {
        "id": "V32YXkyJGUjU",
        "colab_type": "code",
        "colab": {}
      },
      "cell_type": "code",
      "source": [
        "# encode the text and map each character to an integer and vice versa\n",
        "\n",
        "# we create two dictionaries:\n",
        "# 1. int2char, which maps integers to characters\n",
        "# 2. char2int, which maps characters to unique integers\n",
        "chars = tuple(set(text))\n",
        "int2char = dict(enumerate(chars))\n",
        "char2int = {ch: ii for ii, ch in int2char.items()}\n",
        "\n",
        "# encode the text\n",
        "encoded = np.array([char2int[ch] for ch in text])"
      ],
      "execution_count": 0,
      "outputs": []
    },
    {
      "metadata": {
        "id": "ujjxm-XOtjzb",
        "colab_type": "code",
        "colab": {
          "base_uri": "https://localhost:8080/",
          "height": 54
        },
        "outputId": "ee965211-52cd-435b-e94d-122867177ea0"
      },
      "cell_type": "code",
      "source": [
        "int2char.items()"
      ],
      "execution_count": 6,
      "outputs": [
        {
          "output_type": "execute_result",
          "data": {
            "text/plain": [
              "dict_items([(0, '2'), (1, 'y'), (2, '!'), (3, 'N'), (4, 'o'), (5, 'S'), (6, '1'), (7, 'R'), (8, '8'), (9, '@'), (10, '4'), (11, 'a'), (12, 'u'), (13, 'C'), (14, 'q'), (15, '_'), (16, 'm'), (17, 'z'), (18, 'G'), (19, '3'), (20, '6'), (21, 'U'), (22, 'h'), (23, '.'), (24, 'g'), (25, 'j'), (26, '`'), (27, 'v'), (28, \"'\"), (29, ':'), (30, '\"'), (31, '?'), (32, 'V'), (33, 'i'), (34, ','), (35, 'Z'), (36, 'r'), (37, '('), (38, 'Q'), (39, 'X'), (40, 'l'), (41, '*'), (42, ';'), (43, 'A'), (44, 'D'), (45, 'b'), (46, '-'), (47, 'n'), (48, '7'), (49, 'F'), (50, 'x'), (51, 'E'), (52, '9'), (53, 's'), (54, '\\n'), (55, 'P'), (56, 'f'), (57, 'O'), (58, 'c'), (59, ')'), (60, 'L'), (61, '$'), (62, '/'), (63, 'T'), (64, 'e'), (65, 'k'), (66, 'p'), (67, '&'), (68, 'J'), (69, 'M'), (70, ' '), (71, 'I'), (72, 'B'), (73, 'K'), (74, 'Y'), (75, '5'), (76, '%'), (77, 't'), (78, 'd'), (79, 'H'), (80, '0'), (81, 'W'), (82, 'w')])"
            ]
          },
          "metadata": {
            "tags": []
          },
          "execution_count": 6
        }
      ]
    },
    {
      "metadata": {
        "id": "5JpmFkAbGUjd",
        "colab_type": "text"
      },
      "cell_type": "markdown",
      "source": [
        "And we can see those same characters from above, encoded as integers."
      ]
    },
    {
      "metadata": {
        "id": "OMFrpuzxGUjh",
        "colab_type": "code",
        "colab": {
          "base_uri": "https://localhost:8080/",
          "height": 121
        },
        "outputId": "85cd2e98-8ace-4b4c-c6de-a98f825c5dac"
      },
      "cell_type": "code",
      "source": [
        "encoded[:100]"
      ],
      "execution_count": 7,
      "outputs": [
        {
          "output_type": "execute_result",
          "data": {
            "text/plain": [
              "array([13, 22, 11, 66, 77, 64, 36, 70,  6, 54, 54, 54, 79, 11, 66, 66,  1,\n",
              "       70, 56, 11, 16, 33, 40, 33, 64, 53, 70, 11, 36, 64, 70, 11, 40, 40,\n",
              "       70, 11, 40, 33, 65, 64, 42, 70, 64, 27, 64, 36,  1, 70, 12, 47, 22,\n",
              "       11, 66, 66,  1, 70, 56, 11, 16, 33, 40,  1, 70, 33, 53, 70, 12, 47,\n",
              "       22, 11, 66, 66,  1, 70, 33, 47, 70, 33, 77, 53, 70,  4, 82, 47, 54,\n",
              "       82, 11,  1, 23, 54, 54, 51, 27, 64, 36,  1, 77, 22, 33, 47])"
            ]
          },
          "metadata": {
            "tags": []
          },
          "execution_count": 7
        }
      ]
    },
    {
      "metadata": {
        "id": "q0m-68c2GUjv",
        "colab_type": "text"
      },
      "cell_type": "markdown",
      "source": [
        "## Pre-processing the data\n",
        "\n",
        "As you can see in our char-RNN image above, our LSTM expects an input that is **one-hot encoded** meaning that each character is converted into an integer (via our created dictionary) and *then* converted into a column vector where only it's corresponding integer index will have the value of 1 and the rest of the vector will be filled with 0's. Since we're one-hot encoding the data, let's make a function to do that!\n"
      ]
    },
    {
      "metadata": {
        "id": "yuuz9WhsGUjy",
        "colab_type": "code",
        "colab": {}
      },
      "cell_type": "code",
      "source": [
        "def one_hot_encode(arr, n_labels):\n",
        "    \n",
        "    # Initialize the the encoded array\n",
        "    one_hot = np.zeros((np.multiply(*arr.shape), n_labels), dtype=np.float32)\n",
        "    \n",
        "    # Fill the appropriate elements with ones\n",
        "    one_hot[np.arange(one_hot.shape[0]), arr.flatten()] = 1.\n",
        "    \n",
        "    # Finally reshape it to get back to the original array\n",
        "    one_hot = one_hot.reshape((*arr.shape, n_labels))\n",
        "    \n",
        "    return one_hot"
      ],
      "execution_count": 0,
      "outputs": []
    },
    {
      "metadata": {
        "id": "3kF5RqnRGUj_",
        "colab_type": "code",
        "colab": {
          "base_uri": "https://localhost:8080/",
          "height": 69
        },
        "outputId": "efb85c17-78a0-4850-9c75-7e26e75da8e3"
      },
      "cell_type": "code",
      "source": [
        "# check that the function works as expected\n",
        "test_seq = np.array([[3, 5, 1]])\n",
        "one_hot = one_hot_encode(test_seq, 8)\n",
        "\n",
        "print(one_hot)"
      ],
      "execution_count": 9,
      "outputs": [
        {
          "output_type": "stream",
          "text": [
            "[[[0. 0. 0. 1. 0. 0. 0. 0.]\n",
            "  [0. 0. 0. 0. 0. 1. 0. 0.]\n",
            "  [0. 1. 0. 0. 0. 0. 0. 0.]]]\n"
          ],
          "name": "stdout"
        }
      ]
    },
    {
      "metadata": {
        "id": "R71azg4aGUkL",
        "colab_type": "text"
      },
      "cell_type": "markdown",
      "source": [
        "## Making training mini-batches\n",
        "\n",
        "\n",
        "To train on this data, we also want to create mini-batches for training. Remember that we want our batches to be multiple sequences of some desired number of sequence steps. Considering a simple example, our batches would look like this:\n",
        "\n",
        "<img src=\"https://github.com/Baidaly/FORK_deep-learning-v2-pytorch/blob/master/recurrent-neural-networks/char-rnn/assets/sequence_batching@1x.png?raw=1\" width=500px>\n",
        "\n",
        "\n",
        "<br>\n",
        "\n",
        "In this example, we'll take the encoded characters (passed in as the `arr` parameter) and split them into multiple sequences, given by `batch_size`. Each of our sequences will be `seq_length` long.\n",
        "\n",
        "### Creating Batches\n",
        "\n",
        "**1. The first thing we need to do is discard some of the text so we only have completely full mini-batches. **\n",
        "\n",
        "Each batch contains $N \\times M$ characters, where $N$ is the batch size (the number of sequences in a batch) and $M$ is the seq_length or number of time steps in a sequence. Then, to get the total number of batches, $K$, that we can make from the array `arr`, you divide the length of `arr` by the number of characters per batch. Once you know the number of batches, you can get the total number of characters to keep from `arr`, $N * M * K$.\n",
        "\n",
        "**2. After that, we need to split `arr` into $N$ batches. ** \n",
        "\n",
        "You can do this using `arr.reshape(size)` where `size` is a tuple containing the dimensions sizes of the reshaped array. We know we want $N$ sequences in a batch, so let's make that the size of the first dimension. For the second dimension, you can use `-1` as a placeholder in the size, it'll fill up the array with the appropriate data for you. After this, you should have an array that is $N \\times (M * K)$.\n",
        "\n",
        "**3. Now that we have this array, we can iterate through it to get our mini-batches. **\n",
        "\n",
        "The idea is each batch is a $N \\times M$ window on the $N \\times (M * K)$ array. For each subsequent batch, the window moves over by `seq_length`. We also want to create both the input and target arrays. Remember that the targets are just the inputs shifted over by one character. The way I like to do this window is use `range` to take steps of size `n_steps` from $0$ to `arr.shape[1]`, the total number of tokens in each sequence. That way, the integers you get from `range` always point to the start of a batch, and each window is `seq_length` wide.\n",
        "\n",
        "> **TODO:** Write the code for creating batches in the function below. The exercises in this notebook _will not be easy_. I've provided a notebook with solutions alongside this notebook. If you get stuck, checkout the solutions. The most important thing is that you don't copy and paste the code into here, **type out the solution code yourself.**"
      ]
    },
    {
      "metadata": {
        "id": "PNNhDPwrGUkO",
        "colab_type": "code",
        "colab": {}
      },
      "cell_type": "code",
      "source": [
        "def get_batches(arr, batch_size, seq_length):\n",
        "    '''Create a generator that returns batches of size\n",
        "       batch_size x seq_length from arr.\n",
        "       \n",
        "       Arguments\n",
        "       ---------\n",
        "       arr: Array you want to make batches from\n",
        "       batch_size: Batch size, the number of sequences per batch\n",
        "       seq_length: Number of encoded chars in a sequence\n",
        "    '''\n",
        "    \n",
        "    ## TODO: Get the number of batches we can make\n",
        "    n_batches = arr.shape[0] // (batch_size * seq_length)\n",
        "    \n",
        "    ## TODO: Keep only enough characters to make full batches\n",
        "    arr_l = n_batches * batch_size * seq_length\n",
        "    arr = arr[:arr_l]\n",
        "    \n",
        "    ## TODO: Reshape into batch_size rows\n",
        "    arr = arr.reshape(batch_size, -1)\n",
        "    \n",
        "    ## TODO: Iterate over the batches using a window of size seq_length\n",
        "    for n in range(0, arr.shape[1], seq_length):\n",
        "        # The features\n",
        "        x = arr[:, n:(n+seq_length)]\n",
        "        # The targets, shifted by one\n",
        "        y = np.zeros_like(x)\n",
        "        try:\n",
        "            y[:, :-1], y[:, -1] = x[:, 1:], arr[:, n+seq_length]\n",
        "        except IndexError:\n",
        "            y[:, :-1], y[:, -1] = x[:, 1:], arr[:, 0]\n",
        "        yield x, y"
      ],
      "execution_count": 0,
      "outputs": []
    },
    {
      "metadata": {
        "id": "IyJT5xbxGUkU",
        "colab_type": "text"
      },
      "cell_type": "markdown",
      "source": [
        "### Test Your Implementation\n",
        "\n",
        "Now I'll make some data sets and we can check out what's going on as we batch data. Here, as an example, I'm going to use a batch size of 8 and 50 sequence steps."
      ]
    },
    {
      "metadata": {
        "id": "btnuyCANGUkX",
        "colab_type": "code",
        "colab": {}
      },
      "cell_type": "code",
      "source": [
        "batches = get_batches(encoded, 8, 50)\n",
        "x, y = next(batches)"
      ],
      "execution_count": 0,
      "outputs": []
    },
    {
      "metadata": {
        "id": "6kPL9HFUGUkh",
        "colab_type": "code",
        "colab": {
          "base_uri": "https://localhost:8080/",
          "height": 347
        },
        "outputId": "6b8ad9b1-c799-4c81-fe04-b8bb1d9eaf43"
      },
      "cell_type": "code",
      "source": [
        "# printing out the first 10 items in a sequence\n",
        "print('x\\n', x[:10, :10])\n",
        "print('\\ny\\n', y[:10, :10])"
      ],
      "execution_count": 12,
      "outputs": [
        {
          "output_type": "stream",
          "text": [
            "x\n",
            " [[13 22 11 66 77 64 36 70  6 54]\n",
            " [53  4 47 70 77 22 11 77 70 11]\n",
            " [64 47 78 70  4 36 70 11 70 56]\n",
            " [53 70 77 22 64 70 58 22 33 64]\n",
            " [70 53 11 82 70 22 64 36 70 77]\n",
            " [58 12 53 53 33  4 47 70 11 47]\n",
            " [70 43 47 47 11 70 22 11 78 70]\n",
            " [57 45 40  4 47 53 65  1 23 70]]\n",
            "\n",
            "y\n",
            " [[22 11 66 77 64 36 70  6 54 54]\n",
            " [ 4 47 70 77 22 11 77 70 11 77]\n",
            " [47 78 70  4 36 70 11 70 56  4]\n",
            " [70 77 22 64 70 58 22 33 64 56]\n",
            " [53 11 82 70 22 64 36 70 77 64]\n",
            " [12 53 53 33  4 47 70 11 47 78]\n",
            " [43 47 47 11 70 22 11 78 70 53]\n",
            " [45 40  4 47 53 65  1 23 70 30]]\n"
          ],
          "name": "stdout"
        }
      ]
    },
    {
      "metadata": {
        "id": "EK5cIUOhGUks",
        "colab_type": "text"
      },
      "cell_type": "markdown",
      "source": [
        "If you implemented `get_batches` correctly, the above output should look something like \n",
        "```\n",
        "x\n",
        " [[25  8 60 11 45 27 28 73  1  2]\n",
        " [17  7 20 73 45  8 60 45 73 60]\n",
        " [27 20 80 73  7 28 73 60 73 65]\n",
        " [17 73 45  8 27 73 66  8 46 27]\n",
        " [73 17 60 12 73  8 27 28 73 45]\n",
        " [66 64 17 17 46  7 20 73 60 20]\n",
        " [73 76 20 20 60 73  8 60 80 73]\n",
        " [47 35 43  7 20 17 24 50 37 73]]\n",
        "\n",
        "y\n",
        " [[ 8 60 11 45 27 28 73  1  2  2]\n",
        " [ 7 20 73 45  8 60 45 73 60 45]\n",
        " [20 80 73  7 28 73 60 73 65  7]\n",
        " [73 45  8 27 73 66  8 46 27 65]\n",
        " [17 60 12 73  8 27 28 73 45 27]\n",
        " [64 17 17 46  7 20 73 60 20 80]\n",
        " [76 20 20 60 73  8 60 80 73 17]\n",
        " [35 43  7 20 17 24 50 37 73 36]]\n",
        " ```\n",
        " although the exact numbers may be different. Check to make sure the data is shifted over one step for `y`."
      ]
    },
    {
      "metadata": {
        "id": "fz-U4KXkGUkw",
        "colab_type": "text"
      },
      "cell_type": "markdown",
      "source": [
        "---\n",
        "## Defining the network with PyTorch\n",
        "\n",
        "Below is where you'll define the network.\n",
        "\n",
        "<img src=\"https://github.com/Baidaly/FORK_deep-learning-v2-pytorch/blob/master/recurrent-neural-networks/char-rnn/assets/charRNN.png?raw=1\" width=500px>\n",
        "\n",
        "Next, you'll use PyTorch to define the architecture of the network. We start by defining the layers and operations we want. Then, define a method for the forward pass. You've also been given a method for predicting characters."
      ]
    },
    {
      "metadata": {
        "id": "2Ae-AFLpGUk0",
        "colab_type": "text"
      },
      "cell_type": "markdown",
      "source": [
        "### Model Structure\n",
        "\n",
        "In `__init__` the suggested structure is as follows:\n",
        "* Create and store the necessary dictionaries (this has been done for you)\n",
        "* Define an LSTM layer that takes as params: an input size (the number of characters), a hidden layer size `n_hidden`, a number of layers `n_layers`, a dropout probability `drop_prob`, and a batch_first boolean (True, since we are batching)\n",
        "* Define a dropout layer with `dropout_prob`\n",
        "* Define a fully-connected layer with params: input size `n_hidden` and output size (the number of characters)\n",
        "* Finally, initialize the weights (again, this has been given)\n",
        "\n",
        "Note that some parameters have been named and given in the `__init__` function, and we use them and store them by doing something like `self.drop_prob = drop_prob`."
      ]
    },
    {
      "metadata": {
        "id": "62gjGnOlGUk1",
        "colab_type": "text"
      },
      "cell_type": "markdown",
      "source": [
        "---\n",
        "### LSTM Inputs/Outputs\n",
        "\n",
        "You can create a basic [LSTM layer](https://pytorch.org/docs/stable/nn.html#lstm) as follows\n",
        "\n",
        "```python\n",
        "self.lstm = nn.LSTM(input_size, n_hidden, n_layers, \n",
        "                            dropout=drop_prob, batch_first=True)\n",
        "```\n",
        "\n",
        "where `input_size` is the number of characters this cell expects to see as sequential input, and `n_hidden` is the number of units in the hidden layers in the cell. And we can add dropout by adding a dropout parameter with a specified probability; this will automatically add dropout to the inputs or outputs. Finally, in the `forward` function, we can stack up the LSTM cells into layers using `.view`. With this, you pass in a list of cells and it will send the output of one cell into the next cell.\n",
        "\n",
        "We also need to create an initial hidden state of all zeros. This is done like so\n",
        "\n",
        "```python\n",
        "self.init_hidden()\n",
        "```"
      ]
    },
    {
      "metadata": {
        "id": "x2Rge3S4GUk4",
        "colab_type": "code",
        "colab": {
          "base_uri": "https://localhost:8080/",
          "height": 34
        },
        "outputId": "2c572f73-7424-4100-81bc-2009ab02d4db"
      },
      "cell_type": "code",
      "source": [
        "# check if GPU is available\n",
        "train_on_gpu = torch.cuda.is_available()\n",
        "if(train_on_gpu):\n",
        "    print('Training on GPU!')\n",
        "else: \n",
        "    print('No GPU available, training on CPU; consider making n_epochs very small.')"
      ],
      "execution_count": 13,
      "outputs": [
        {
          "output_type": "stream",
          "text": [
            "Training on GPU!\n"
          ],
          "name": "stdout"
        }
      ]
    },
    {
      "metadata": {
        "id": "WWvcEQWGGUk-",
        "colab_type": "code",
        "colab": {}
      },
      "cell_type": "code",
      "source": [
        "class CharRNN(nn.Module):\n",
        "    \n",
        "    def __init__(self, tokens, n_hidden=256, n_layers=2,\n",
        "                               drop_prob=0.5, lr=0.001):\n",
        "        super().__init__()\n",
        "        self.drop_prob = drop_prob\n",
        "        self.n_layers = n_layers\n",
        "        self.n_hidden = n_hidden\n",
        "        self.lr = lr\n",
        "        \n",
        "        # creating character dictionaries\n",
        "        self.chars = tokens\n",
        "        self.int2char = dict(enumerate(self.chars))\n",
        "        self.char2int = {ch: ii for ii, ch in self.int2char.items()}\n",
        "        \n",
        "        ## TODO: define the layers of the model\n",
        "        self.lstm = nn.LSTM(len(self.chars), n_hidden, n_layers, dropout=drop_prob, batch_first=True)\n",
        "        self.dropout = nn.Dropout(p=drop_prob)\n",
        "        self.fc = nn.Linear(n_hidden, len(self.chars))\n",
        "    \n",
        "    def forward(self, x, hidden):\n",
        "        ''' Forward pass through the network. \n",
        "            These inputs are x, and the hidden/cell state `hidden`. '''\n",
        "                \n",
        "        ## Get the outputs and the new hidden state from the lstm\n",
        "        out, hidden = self.lstm(x, hidden)\n",
        "        out = self.dropout(out)\n",
        "        # Stack LSTM outputs\n",
        "        out = out.contiguous().view(-1, self.n_hidden)\n",
        "        out = self.fc(out)\n",
        "        \n",
        "        \n",
        "        # return the final output and the hidden state\n",
        "        return out, hidden\n",
        "    \n",
        "    \n",
        "    def init_hidden(self, batch_size):\n",
        "        ''' Initializes hidden state '''\n",
        "        # Create two new tensors with sizes n_layers x batch_size x n_hidden,\n",
        "        # initialized to zero, for hidden state and cell state of LSTM\n",
        "        weight = next(self.parameters()).data\n",
        "        \n",
        "        if (train_on_gpu):\n",
        "            hidden = (weight.new(self.n_layers, batch_size, self.n_hidden).zero_().cuda(),\n",
        "                  weight.new(self.n_layers, batch_size, self.n_hidden).zero_().cuda())\n",
        "        else:\n",
        "            hidden = (weight.new(self.n_layers, batch_size, self.n_hidden).zero_(),\n",
        "                      weight.new(self.n_layers, batch_size, self.n_hidden).zero_())\n",
        "        \n",
        "        return hidden\n",
        "        "
      ],
      "execution_count": 0,
      "outputs": []
    },
    {
      "metadata": {
        "id": "UEq-F6iXGUlK",
        "colab_type": "text"
      },
      "cell_type": "markdown",
      "source": [
        "## Time to train\n",
        "\n",
        "The train function gives us the ability to set the number of epochs, the learning rate, and other parameters.\n",
        "\n",
        "Below we're using an Adam optimizer and cross entropy loss since we are looking at character class scores as output. We calculate the loss and perform backpropagation, as usual!\n",
        "\n",
        "A couple of details about training: \n",
        ">* Within the batch loop, we detach the hidden state from its history; this time setting it equal to a new *tuple* variable because an LSTM has a hidden state that is a tuple of the hidden and cell states.\n",
        "* We use [`clip_grad_norm_`](https://pytorch.org/docs/stable/_modules/torch/nn/utils/clip_grad.html) to help prevent exploding gradients."
      ]
    },
    {
      "metadata": {
        "id": "OaW36XK6GUlO",
        "colab_type": "code",
        "colab": {}
      },
      "cell_type": "code",
      "source": [
        "def train(net, data, epochs=10, batch_size=10, seq_length=50, lr=0.001, clip=5, val_frac=0.1, print_every=10):\n",
        "    ''' Training a network \n",
        "    \n",
        "        Arguments\n",
        "        ---------\n",
        "        \n",
        "        net: CharRNN network\n",
        "        data: text data to train the network\n",
        "        epochs: Number of epochs to train\n",
        "        batch_size: Number of mini-sequences per mini-batch, aka batch size\n",
        "        seq_length: Number of character steps per mini-batch\n",
        "        lr: learning rate\n",
        "        clip: gradient clipping\n",
        "        val_frac: Fraction of data to hold out for validation\n",
        "        print_every: Number of steps for printing training and validation loss\n",
        "    \n",
        "    '''\n",
        "    net.train()\n",
        "    \n",
        "    opt = torch.optim.Adam(net.parameters(), lr=lr)\n",
        "    criterion = nn.CrossEntropyLoss()\n",
        "    \n",
        "    # create training and validation data\n",
        "    val_idx = int(len(data)*(1-val_frac))\n",
        "    data, val_data = data[:val_idx], data[val_idx:]\n",
        "    \n",
        "    if(train_on_gpu):\n",
        "        net.cuda()\n",
        "    \n",
        "    counter = 0\n",
        "    n_chars = len(net.chars)\n",
        "    for e in range(epochs):\n",
        "        # initialize hidden state\n",
        "        h = net.init_hidden(batch_size)\n",
        "        \n",
        "        for x, y in get_batches(data, batch_size, seq_length):\n",
        "            counter += 1\n",
        "            \n",
        "            # One-hot encode our data and make them Torch tensors\n",
        "            x = one_hot_encode(x, n_chars)\n",
        "            inputs, targets = torch.from_numpy(x), torch.from_numpy(y)\n",
        "            \n",
        "            if(train_on_gpu):\n",
        "                inputs, targets = inputs.cuda(), targets.cuda()\n",
        "\n",
        "            # Creating new variables for the hidden state, otherwise\n",
        "            # we'd backprop through the entire training history\n",
        "            h = tuple([each.data for each in h])\n",
        "\n",
        "            # zero accumulated gradients\n",
        "            net.zero_grad()\n",
        "            \n",
        "            # get the output from the model\n",
        "            output, h = net(inputs, h)\n",
        "            \n",
        "            # calculate the loss and perform backprop\n",
        "            loss = criterion(output, targets.view(batch_size*seq_length))\n",
        "            loss.backward()\n",
        "            # `clip_grad_norm` helps prevent the exploding gradient problem in RNNs / LSTMs.\n",
        "            nn.utils.clip_grad_norm_(net.parameters(), clip)\n",
        "            opt.step()\n",
        "            \n",
        "            # loss stats\n",
        "            if counter % print_every == 0:\n",
        "                # Get validation loss\n",
        "                val_h = net.init_hidden(batch_size)\n",
        "                val_losses = []\n",
        "                net.eval()\n",
        "                for x, y in get_batches(val_data, batch_size, seq_length):\n",
        "                    # One-hot encode our data and make them Torch tensors\n",
        "                    x = one_hot_encode(x, n_chars)\n",
        "                    x, y = torch.from_numpy(x), torch.from_numpy(y)\n",
        "                    \n",
        "                    # Creating new variables for the hidden state, otherwise\n",
        "                    # we'd backprop through the entire training history\n",
        "                    val_h = tuple([each.data for each in val_h])\n",
        "                    \n",
        "                    inputs, targets = x, y\n",
        "                    if(train_on_gpu):\n",
        "                        inputs, targets = inputs.cuda(), targets.cuda()\n",
        "\n",
        "                    output, val_h = net(inputs, val_h)\n",
        "                    val_loss = criterion(output, targets.view(batch_size*seq_length))\n",
        "                \n",
        "                    val_losses.append(val_loss.item())\n",
        "                \n",
        "                net.train() # reset to train mode after iterationg through validation data\n",
        "                \n",
        "                print(\"Epoch: {}/{}...\".format(e+1, epochs),\n",
        "                      \"Step: {}...\".format(counter),\n",
        "                      \"Loss: {:.4f}...\".format(loss.item()),\n",
        "                      \"Val Loss: {:.4f}\".format(np.mean(val_losses)))"
      ],
      "execution_count": 0,
      "outputs": []
    },
    {
      "metadata": {
        "id": "QD8WHbh6GUlV",
        "colab_type": "text"
      },
      "cell_type": "markdown",
      "source": [
        "## Instantiating the model\n",
        "\n",
        "Now we can actually train the network. First we'll create the network itself, with some given hyperparameters. Then, define the mini-batches sizes, and start training!"
      ]
    },
    {
      "metadata": {
        "id": "5n6whXWeGUlZ",
        "colab_type": "code",
        "colab": {
          "base_uri": "https://localhost:8080/",
          "height": 159
        },
        "outputId": "c8ecddd4-6c28-46bc-9489-44e41ddf2a4c"
      },
      "cell_type": "code",
      "source": [
        "# define and print the net\n",
        "n_hidden=512\n",
        "n_layers=1\n",
        "\n",
        "net = CharRNN(chars, n_hidden, n_layers)\n",
        "print(net)"
      ],
      "execution_count": 16,
      "outputs": [
        {
          "output_type": "stream",
          "text": [
            "CharRNN(\n",
            "  (lstm): LSTM(83, 512, batch_first=True, dropout=0.5)\n",
            "  (dropout): Dropout(p=0.5)\n",
            "  (fc): Linear(in_features=512, out_features=83, bias=True)\n",
            ")\n"
          ],
          "name": "stdout"
        },
        {
          "output_type": "stream",
          "text": [
            "/usr/local/lib/python3.6/dist-packages/torch/nn/modules/rnn.py:38: UserWarning: dropout option adds dropout after all but last recurrent layer, so non-zero dropout expects num_layers greater than 1, but got dropout=0.5 and num_layers=1\n",
            "  \"num_layers={}\".format(dropout, num_layers))\n"
          ],
          "name": "stderr"
        }
      ]
    },
    {
      "metadata": {
        "id": "UIdzIxfgGUlf",
        "colab_type": "text"
      },
      "cell_type": "markdown",
      "source": [
        "### Set your training hyperparameters!"
      ]
    },
    {
      "metadata": {
        "scrolled": true,
        "id": "DbQyDvtTGUls",
        "colab_type": "code",
        "colab": {
          "base_uri": "https://localhost:8080/",
          "height": 4845
        },
        "outputId": "259e213c-daef-4cc9-d4f1-c3e3880393d8"
      },
      "cell_type": "code",
      "source": [
        "batch_size = 128\n",
        "seq_length = 100\n",
        "n_epochs =  20\n",
        "\n",
        "# train the model\n",
        "train(net, encoded, epochs=n_epochs, batch_size=batch_size, seq_length=seq_length, lr=0.001, print_every=10)"
      ],
      "execution_count": 17,
      "outputs": [
        {
          "output_type": "stream",
          "text": [
            "Epoch: 1/20... Step: 10... Loss: 3.2387... Val Loss: 3.1755\n",
            "Epoch: 1/20... Step: 20... Loss: 3.1499... Val Loss: 3.1319\n",
            "Epoch: 1/20... Step: 30... Loss: 3.1371... Val Loss: 3.1158\n",
            "Epoch: 1/20... Step: 40... Loss: 3.1055... Val Loss: 3.1101\n",
            "Epoch: 1/20... Step: 50... Loss: 3.1318... Val Loss: 3.1031\n",
            "Epoch: 1/20... Step: 60... Loss: 3.1008... Val Loss: 3.0964\n",
            "Epoch: 1/20... Step: 70... Loss: 3.0846... Val Loss: 3.0884\n",
            "Epoch: 1/20... Step: 80... Loss: 3.0879... Val Loss: 3.0772\n",
            "Epoch: 1/20... Step: 90... Loss: 3.0773... Val Loss: 3.0602\n",
            "Epoch: 1/20... Step: 100... Loss: 3.0447... Val Loss: 3.0334\n",
            "Epoch: 1/20... Step: 110... Loss: 3.0126... Val Loss: 2.9871\n",
            "Epoch: 1/20... Step: 120... Loss: 2.9291... Val Loss: 2.9242\n",
            "Epoch: 1/20... Step: 130... Loss: 2.8867... Val Loss: 2.8622\n",
            "Epoch: 2/20... Step: 140... Loss: 2.8484... Val Loss: 2.7876\n",
            "Epoch: 2/20... Step: 150... Loss: 2.7557... Val Loss: 2.7319\n",
            "Epoch: 2/20... Step: 160... Loss: 2.7044... Val Loss: 2.6646\n",
            "Epoch: 2/20... Step: 170... Loss: 2.6530... Val Loss: 2.6580\n",
            "Epoch: 2/20... Step: 180... Loss: 2.5921... Val Loss: 2.5864\n",
            "Epoch: 2/20... Step: 190... Loss: 2.5459... Val Loss: 2.5383\n",
            "Epoch: 2/20... Step: 200... Loss: 2.5255... Val Loss: 2.5095\n",
            "Epoch: 2/20... Step: 210... Loss: 2.5032... Val Loss: 2.4739\n",
            "Epoch: 2/20... Step: 220... Loss: 2.4542... Val Loss: 2.4409\n",
            "Epoch: 2/20... Step: 230... Loss: 2.4302... Val Loss: 2.4162\n",
            "Epoch: 2/20... Step: 240... Loss: 2.4317... Val Loss: 2.4021\n",
            "Epoch: 2/20... Step: 250... Loss: 2.3797... Val Loss: 2.3786\n",
            "Epoch: 2/20... Step: 260... Loss: 2.3525... Val Loss: 2.3584\n",
            "Epoch: 2/20... Step: 270... Loss: 2.3614... Val Loss: 2.3465\n",
            "Epoch: 3/20... Step: 280... Loss: 2.3561... Val Loss: 2.3229\n",
            "Epoch: 3/20... Step: 290... Loss: 2.3220... Val Loss: 2.3086\n",
            "Epoch: 3/20... Step: 300... Loss: 2.3144... Val Loss: 2.2926\n",
            "Epoch: 3/20... Step: 310... Loss: 2.2966... Val Loss: 2.2783\n",
            "Epoch: 3/20... Step: 320... Loss: 2.2854... Val Loss: 2.2688\n",
            "Epoch: 3/20... Step: 330... Loss: 2.2602... Val Loss: 2.2533\n",
            "Epoch: 3/20... Step: 340... Loss: 2.2641... Val Loss: 2.2435\n",
            "Epoch: 3/20... Step: 350... Loss: 2.2841... Val Loss: 2.2303\n",
            "Epoch: 3/20... Step: 360... Loss: 2.1999... Val Loss: 2.2186\n",
            "Epoch: 3/20... Step: 370... Loss: 2.2268... Val Loss: 2.2090\n",
            "Epoch: 3/20... Step: 380... Loss: 2.2119... Val Loss: 2.1956\n",
            "Epoch: 3/20... Step: 390... Loss: 2.1948... Val Loss: 2.1884\n",
            "Epoch: 3/20... Step: 400... Loss: 2.1738... Val Loss: 2.1764\n",
            "Epoch: 3/20... Step: 410... Loss: 2.1858... Val Loss: 2.1681\n",
            "Epoch: 4/20... Step: 420... Loss: 2.1738... Val Loss: 2.1567\n",
            "Epoch: 4/20... Step: 430... Loss: 2.1635... Val Loss: 2.1466\n",
            "Epoch: 4/20... Step: 440... Loss: 2.1486... Val Loss: 2.1360\n",
            "Epoch: 4/20... Step: 450... Loss: 2.1001... Val Loss: 2.1290\n",
            "Epoch: 4/20... Step: 460... Loss: 2.1136... Val Loss: 2.1195\n",
            "Epoch: 4/20... Step: 470... Loss: 2.1248... Val Loss: 2.1114\n",
            "Epoch: 4/20... Step: 480... Loss: 2.1232... Val Loss: 2.1059\n",
            "Epoch: 4/20... Step: 490... Loss: 2.1198... Val Loss: 2.0953\n",
            "Epoch: 4/20... Step: 500... Loss: 2.1221... Val Loss: 2.0860\n",
            "Epoch: 4/20... Step: 510... Loss: 2.1116... Val Loss: 2.0840\n",
            "Epoch: 4/20... Step: 520... Loss: 2.1112... Val Loss: 2.0752\n",
            "Epoch: 4/20... Step: 530... Loss: 2.0710... Val Loss: 2.0660\n",
            "Epoch: 4/20... Step: 540... Loss: 2.0398... Val Loss: 2.0544\n",
            "Epoch: 4/20... Step: 550... Loss: 2.0780... Val Loss: 2.0473\n",
            "Epoch: 5/20... Step: 560... Loss: 2.0516... Val Loss: 2.0426\n",
            "Epoch: 5/20... Step: 570... Loss: 2.0370... Val Loss: 2.0338\n",
            "Epoch: 5/20... Step: 580... Loss: 2.0093... Val Loss: 2.0284\n",
            "Epoch: 5/20... Step: 590... Loss: 2.0280... Val Loss: 2.0188\n",
            "Epoch: 5/20... Step: 600... Loss: 2.0194... Val Loss: 2.0130\n",
            "Epoch: 5/20... Step: 610... Loss: 2.0044... Val Loss: 2.0048\n",
            "Epoch: 5/20... Step: 620... Loss: 1.9948... Val Loss: 2.0009\n",
            "Epoch: 5/20... Step: 630... Loss: 2.0267... Val Loss: 1.9937\n",
            "Epoch: 5/20... Step: 640... Loss: 1.9848... Val Loss: 1.9877\n",
            "Epoch: 5/20... Step: 650... Loss: 1.9815... Val Loss: 1.9812\n",
            "Epoch: 5/20... Step: 660... Loss: 1.9426... Val Loss: 1.9740\n",
            "Epoch: 5/20... Step: 670... Loss: 1.9831... Val Loss: 1.9669\n",
            "Epoch: 5/20... Step: 680... Loss: 1.9906... Val Loss: 1.9601\n",
            "Epoch: 5/20... Step: 690... Loss: 1.9468... Val Loss: 1.9540\n",
            "Epoch: 6/20... Step: 700... Loss: 1.9400... Val Loss: 1.9502\n",
            "Epoch: 6/20... Step: 710... Loss: 1.9414... Val Loss: 1.9425\n",
            "Epoch: 6/20... Step: 720... Loss: 1.9335... Val Loss: 1.9348\n",
            "Epoch: 6/20... Step: 730... Loss: 1.9403... Val Loss: 1.9342\n",
            "Epoch: 6/20... Step: 740... Loss: 1.9193... Val Loss: 1.9244\n",
            "Epoch: 6/20... Step: 750... Loss: 1.8878... Val Loss: 1.9197\n",
            "Epoch: 6/20... Step: 760... Loss: 1.9352... Val Loss: 1.9131\n",
            "Epoch: 6/20... Step: 770... Loss: 1.9158... Val Loss: 1.9088\n",
            "Epoch: 6/20... Step: 780... Loss: 1.8970... Val Loss: 1.9031\n",
            "Epoch: 6/20... Step: 790... Loss: 1.8973... Val Loss: 1.8997\n",
            "Epoch: 6/20... Step: 800... Loss: 1.8926... Val Loss: 1.8953\n",
            "Epoch: 6/20... Step: 810... Loss: 1.8934... Val Loss: 1.8876\n",
            "Epoch: 6/20... Step: 820... Loss: 1.8654... Val Loss: 1.8835\n",
            "Epoch: 6/20... Step: 830... Loss: 1.9020... Val Loss: 1.8792\n",
            "Epoch: 7/20... Step: 840... Loss: 1.8549... Val Loss: 1.8703\n",
            "Epoch: 7/20... Step: 850... Loss: 1.8583... Val Loss: 1.8704\n",
            "Epoch: 7/20... Step: 860... Loss: 1.8531... Val Loss: 1.8617\n",
            "Epoch: 7/20... Step: 870... Loss: 1.8583... Val Loss: 1.8552\n",
            "Epoch: 7/20... Step: 880... Loss: 1.8484... Val Loss: 1.8503\n",
            "Epoch: 7/20... Step: 890... Loss: 1.8426... Val Loss: 1.8463\n",
            "Epoch: 7/20... Step: 900... Loss: 1.8315... Val Loss: 1.8378\n",
            "Epoch: 7/20... Step: 910... Loss: 1.8114... Val Loss: 1.8409\n",
            "Epoch: 7/20... Step: 920... Loss: 1.8296... Val Loss: 1.8315\n",
            "Epoch: 7/20... Step: 930... Loss: 1.8174... Val Loss: 1.8259\n",
            "Epoch: 7/20... Step: 940... Loss: 1.8122... Val Loss: 1.8255\n",
            "Epoch: 7/20... Step: 950... Loss: 1.8219... Val Loss: 1.8189\n",
            "Epoch: 7/20... Step: 960... Loss: 1.8247... Val Loss: 1.8126\n",
            "Epoch: 7/20... Step: 970... Loss: 1.8384... Val Loss: 1.8079\n",
            "Epoch: 8/20... Step: 980... Loss: 1.8086... Val Loss: 1.8030\n",
            "Epoch: 8/20... Step: 990... Loss: 1.8012... Val Loss: 1.8033\n",
            "Epoch: 8/20... Step: 1000... Loss: 1.7924... Val Loss: 1.7972\n",
            "Epoch: 8/20... Step: 1010... Loss: 1.8266... Val Loss: 1.7921\n",
            "Epoch: 8/20... Step: 1020... Loss: 1.7927... Val Loss: 1.7929\n",
            "Epoch: 8/20... Step: 1030... Loss: 1.7790... Val Loss: 1.7885\n",
            "Epoch: 8/20... Step: 1040... Loss: 1.7701... Val Loss: 1.7822\n",
            "Epoch: 8/20... Step: 1050... Loss: 1.7643... Val Loss: 1.7761\n",
            "Epoch: 8/20... Step: 1060... Loss: 1.7607... Val Loss: 1.7757\n",
            "Epoch: 8/20... Step: 1070... Loss: 1.7676... Val Loss: 1.7738\n",
            "Epoch: 8/20... Step: 1080... Loss: 1.7800... Val Loss: 1.7717\n",
            "Epoch: 8/20... Step: 1090... Loss: 1.7483... Val Loss: 1.7670\n",
            "Epoch: 8/20... Step: 1100... Loss: 1.7457... Val Loss: 1.7638\n",
            "Epoch: 8/20... Step: 1110... Loss: 1.7642... Val Loss: 1.7554\n",
            "Epoch: 9/20... Step: 1120... Loss: 1.7618... Val Loss: 1.7523\n",
            "Epoch: 9/20... Step: 1130... Loss: 1.7598... Val Loss: 1.7543\n",
            "Epoch: 9/20... Step: 1140... Loss: 1.7493... Val Loss: 1.7483\n",
            "Epoch: 9/20... Step: 1150... Loss: 1.7766... Val Loss: 1.7413\n",
            "Epoch: 9/20... Step: 1160... Loss: 1.7153... Val Loss: 1.7400\n",
            "Epoch: 9/20... Step: 1170... Loss: 1.7199... Val Loss: 1.7376\n",
            "Epoch: 9/20... Step: 1180... Loss: 1.7180... Val Loss: 1.7352\n",
            "Epoch: 9/20... Step: 1190... Loss: 1.7519... Val Loss: 1.7264\n",
            "Epoch: 9/20... Step: 1200... Loss: 1.6990... Val Loss: 1.7255\n",
            "Epoch: 9/20... Step: 1210... Loss: 1.7153... Val Loss: 1.7260\n",
            "Epoch: 9/20... Step: 1220... Loss: 1.7075... Val Loss: 1.7219\n",
            "Epoch: 9/20... Step: 1230... Loss: 1.6949... Val Loss: 1.7219\n",
            "Epoch: 9/20... Step: 1240... Loss: 1.6966... Val Loss: 1.7141\n",
            "Epoch: 9/20... Step: 1250... Loss: 1.7139... Val Loss: 1.7118\n",
            "Epoch: 10/20... Step: 1260... Loss: 1.7035... Val Loss: 1.7076\n",
            "Epoch: 10/20... Step: 1270... Loss: 1.7015... Val Loss: 1.7071\n",
            "Epoch: 10/20... Step: 1280... Loss: 1.7173... Val Loss: 1.7060\n",
            "Epoch: 10/20... Step: 1290... Loss: 1.6926... Val Loss: 1.7009\n",
            "Epoch: 10/20... Step: 1300... Loss: 1.6851... Val Loss: 1.6960\n",
            "Epoch: 10/20... Step: 1310... Loss: 1.7043... Val Loss: 1.6958\n",
            "Epoch: 10/20... Step: 1320... Loss: 1.6616... Val Loss: 1.6921\n",
            "Epoch: 10/20... Step: 1330... Loss: 1.6641... Val Loss: 1.6899\n",
            "Epoch: 10/20... Step: 1340... Loss: 1.6660... Val Loss: 1.6849\n",
            "Epoch: 10/20... Step: 1350... Loss: 1.6534... Val Loss: 1.6852\n",
            "Epoch: 10/20... Step: 1360... Loss: 1.6558... Val Loss: 1.6809\n",
            "Epoch: 10/20... Step: 1370... Loss: 1.6405... Val Loss: 1.6818\n",
            "Epoch: 10/20... Step: 1380... Loss: 1.6817... Val Loss: 1.6725\n",
            "Epoch: 10/20... Step: 1390... Loss: 1.6779... Val Loss: 1.6740\n",
            "Epoch: 11/20... Step: 1400... Loss: 1.6867... Val Loss: 1.6695\n",
            "Epoch: 11/20... Step: 1410... Loss: 1.6951... Val Loss: 1.6670\n",
            "Epoch: 11/20... Step: 1420... Loss: 1.6806... Val Loss: 1.6616\n",
            "Epoch: 11/20... Step: 1430... Loss: 1.6501... Val Loss: 1.6617\n",
            "Epoch: 11/20... Step: 1440... Loss: 1.6810... Val Loss: 1.6566\n",
            "Epoch: 11/20... Step: 1450... Loss: 1.6129... Val Loss: 1.6573\n",
            "Epoch: 11/20... Step: 1460... Loss: 1.6258... Val Loss: 1.6548\n",
            "Epoch: 11/20... Step: 1470... Loss: 1.6138... Val Loss: 1.6528\n",
            "Epoch: 11/20... Step: 1480... Loss: 1.6484... Val Loss: 1.6495\n",
            "Epoch: 11/20... Step: 1490... Loss: 1.6271... Val Loss: 1.6508\n",
            "Epoch: 11/20... Step: 1500... Loss: 1.6143... Val Loss: 1.6435\n",
            "Epoch: 11/20... Step: 1510... Loss: 1.5999... Val Loss: 1.6496\n",
            "Epoch: 11/20... Step: 1520... Loss: 1.6418... Val Loss: 1.6433\n",
            "Epoch: 12/20... Step: 1530... Loss: 1.6787... Val Loss: 1.6371\n",
            "Epoch: 12/20... Step: 1540... Loss: 1.6355... Val Loss: 1.6344\n",
            "Epoch: 12/20... Step: 1550... Loss: 1.6472... Val Loss: 1.6336\n",
            "Epoch: 12/20... Step: 1560... Loss: 1.6462... Val Loss: 1.6278\n",
            "Epoch: 12/20... Step: 1570... Loss: 1.6016... Val Loss: 1.6289\n",
            "Epoch: 12/20... Step: 1580... Loss: 1.5651... Val Loss: 1.6248\n",
            "Epoch: 12/20... Step: 1590... Loss: 1.5766... Val Loss: 1.6259\n",
            "Epoch: 12/20... Step: 1600... Loss: 1.6060... Val Loss: 1.6214\n",
            "Epoch: 12/20... Step: 1610... Loss: 1.5856... Val Loss: 1.6197\n",
            "Epoch: 12/20... Step: 1620... Loss: 1.5982... Val Loss: 1.6161\n",
            "Epoch: 12/20... Step: 1630... Loss: 1.6193... Val Loss: 1.6186\n",
            "Epoch: 12/20... Step: 1640... Loss: 1.5836... Val Loss: 1.6117\n",
            "Epoch: 12/20... Step: 1650... Loss: 1.5584... Val Loss: 1.6109\n",
            "Epoch: 12/20... Step: 1660... Loss: 1.6189... Val Loss: 1.6100\n",
            "Epoch: 13/20... Step: 1670... Loss: 1.5874... Val Loss: 1.6056\n",
            "Epoch: 13/20... Step: 1680... Loss: 1.6036... Val Loss: 1.6056\n",
            "Epoch: 13/20... Step: 1690... Loss: 1.5747... Val Loss: 1.5996\n",
            "Epoch: 13/20... Step: 1700... Loss: 1.5763... Val Loss: 1.5985\n",
            "Epoch: 13/20... Step: 1710... Loss: 1.5383... Val Loss: 1.5966\n",
            "Epoch: 13/20... Step: 1720... Loss: 1.5602... Val Loss: 1.5967\n",
            "Epoch: 13/20... Step: 1730... Loss: 1.6049... Val Loss: 1.5936\n",
            "Epoch: 13/20... Step: 1740... Loss: 1.5709... Val Loss: 1.5909\n",
            "Epoch: 13/20... Step: 1750... Loss: 1.5376... Val Loss: 1.5906\n",
            "Epoch: 13/20... Step: 1760... Loss: 1.5633... Val Loss: 1.5908\n",
            "Epoch: 13/20... Step: 1770... Loss: 1.5840... Val Loss: 1.5882\n",
            "Epoch: 13/20... Step: 1780... Loss: 1.5574... Val Loss: 1.5816\n",
            "Epoch: 13/20... Step: 1790... Loss: 1.5389... Val Loss: 1.5858\n",
            "Epoch: 13/20... Step: 1800... Loss: 1.5599... Val Loss: 1.5806\n",
            "Epoch: 14/20... Step: 1810... Loss: 1.5627... Val Loss: 1.5823\n",
            "Epoch: 14/20... Step: 1820... Loss: 1.5587... Val Loss: 1.5795\n",
            "Epoch: 14/20... Step: 1830... Loss: 1.5762... Val Loss: 1.5717\n",
            "Epoch: 14/20... Step: 1840... Loss: 1.5170... Val Loss: 1.5736\n",
            "Epoch: 14/20... Step: 1850... Loss: 1.4983... Val Loss: 1.5727\n",
            "Epoch: 14/20... Step: 1860... Loss: 1.5612... Val Loss: 1.5705\n",
            "Epoch: 14/20... Step: 1870... Loss: 1.5531... Val Loss: 1.5678\n",
            "Epoch: 14/20... Step: 1880... Loss: 1.5540... Val Loss: 1.5678\n",
            "Epoch: 14/20... Step: 1890... Loss: 1.5610... Val Loss: 1.5639\n",
            "Epoch: 14/20... Step: 1900... Loss: 1.5431... Val Loss: 1.5616\n",
            "Epoch: 14/20... Step: 1910... Loss: 1.5537... Val Loss: 1.5617\n",
            "Epoch: 14/20... Step: 1920... Loss: 1.5308... Val Loss: 1.5548\n",
            "Epoch: 14/20... Step: 1930... Loss: 1.4976... Val Loss: 1.5607\n",
            "Epoch: 14/20... Step: 1940... Loss: 1.5582... Val Loss: 1.5535\n",
            "Epoch: 15/20... Step: 1950... Loss: 1.5273... Val Loss: 1.5541\n",
            "Epoch: 15/20... Step: 1960... Loss: 1.5324... Val Loss: 1.5521\n",
            "Epoch: 15/20... Step: 1970... Loss: 1.5096... Val Loss: 1.5450\n",
            "Epoch: 15/20... Step: 1980... Loss: 1.5070... Val Loss: 1.5476\n",
            "Epoch: 15/20... Step: 1990... Loss: 1.5066... Val Loss: 1.5475\n",
            "Epoch: 15/20... Step: 2000... Loss: 1.4953... Val Loss: 1.5490\n",
            "Epoch: 15/20... Step: 2010... Loss: 1.5112... Val Loss: 1.5454\n",
            "Epoch: 15/20... Step: 2020... Loss: 1.5365... Val Loss: 1.5418\n",
            "Epoch: 15/20... Step: 2030... Loss: 1.5007... Val Loss: 1.5394\n",
            "Epoch: 15/20... Step: 2040... Loss: 1.5017... Val Loss: 1.5361\n",
            "Epoch: 15/20... Step: 2050... Loss: 1.4867... Val Loss: 1.5409\n",
            "Epoch: 15/20... Step: 2060... Loss: 1.5082... Val Loss: 1.5348\n",
            "Epoch: 15/20... Step: 2070... Loss: 1.5164... Val Loss: 1.5364\n",
            "Epoch: 15/20... Step: 2080... Loss: 1.4986... Val Loss: 1.5330\n",
            "Epoch: 16/20... Step: 2090... Loss: 1.5001... Val Loss: 1.5301\n",
            "Epoch: 16/20... Step: 2100... Loss: 1.4853... Val Loss: 1.5312\n",
            "Epoch: 16/20... Step: 2110... Loss: 1.4900... Val Loss: 1.5252\n",
            "Epoch: 16/20... Step: 2120... Loss: 1.5031... Val Loss: 1.5255\n",
            "Epoch: 16/20... Step: 2130... Loss: 1.4594... Val Loss: 1.5268\n",
            "Epoch: 16/20... Step: 2140... Loss: 1.4775... Val Loss: 1.5237\n",
            "Epoch: 16/20... Step: 2150... Loss: 1.5080... Val Loss: 1.5225\n",
            "Epoch: 16/20... Step: 2160... Loss: 1.4865... Val Loss: 1.5209\n",
            "Epoch: 16/20... Step: 2170... Loss: 1.4805... Val Loss: 1.5195\n",
            "Epoch: 16/20... Step: 2180... Loss: 1.4675... Val Loss: 1.5183\n",
            "Epoch: 16/20... Step: 2190... Loss: 1.4966... Val Loss: 1.5229\n",
            "Epoch: 16/20... Step: 2200... Loss: 1.4813... Val Loss: 1.5161\n",
            "Epoch: 16/20... Step: 2210... Loss: 1.4305... Val Loss: 1.5176\n",
            "Epoch: 16/20... Step: 2220... Loss: 1.4786... Val Loss: 1.5127\n",
            "Epoch: 17/20... Step: 2230... Loss: 1.4473... Val Loss: 1.5117\n",
            "Epoch: 17/20... Step: 2240... Loss: 1.4632... Val Loss: 1.5123\n",
            "Epoch: 17/20... Step: 2250... Loss: 1.4460... Val Loss: 1.5082\n",
            "Epoch: 17/20... Step: 2260... Loss: 1.4670... Val Loss: 1.5056\n",
            "Epoch: 17/20... Step: 2270... Loss: 1.4688... Val Loss: 1.5100\n",
            "Epoch: 17/20... Step: 2280... Loss: 1.4806... Val Loss: 1.5072\n",
            "Epoch: 17/20... Step: 2290... Loss: 1.4636... Val Loss: 1.5042\n",
            "Epoch: 17/20... Step: 2300... Loss: 1.4251... Val Loss: 1.5001\n",
            "Epoch: 17/20... Step: 2310... Loss: 1.4499... Val Loss: 1.5024\n",
            "Epoch: 17/20... Step: 2320... Loss: 1.4413... Val Loss: 1.4979\n",
            "Epoch: 17/20... Step: 2330... Loss: 1.4543... Val Loss: 1.5044\n",
            "Epoch: 17/20... Step: 2340... Loss: 1.4693... Val Loss: 1.4970\n",
            "Epoch: 17/20... Step: 2350... Loss: 1.4722... Val Loss: 1.4972\n",
            "Epoch: 17/20... Step: 2360... Loss: 1.4713... Val Loss: 1.4955\n",
            "Epoch: 18/20... Step: 2370... Loss: 1.4400... Val Loss: 1.4935\n",
            "Epoch: 18/20... Step: 2380... Loss: 1.4471... Val Loss: 1.4921\n",
            "Epoch: 18/20... Step: 2390... Loss: 1.4457... Val Loss: 1.4890\n",
            "Epoch: 18/20... Step: 2400... Loss: 1.4607... Val Loss: 1.4896\n",
            "Epoch: 18/20... Step: 2410... Loss: 1.4641... Val Loss: 1.4913\n",
            "Epoch: 18/20... Step: 2420... Loss: 1.4516... Val Loss: 1.4895\n",
            "Epoch: 18/20... Step: 2430... Loss: 1.4503... Val Loss: 1.4869\n",
            "Epoch: 18/20... Step: 2440... Loss: 1.4268... Val Loss: 1.4846\n",
            "Epoch: 18/20... Step: 2450... Loss: 1.4289... Val Loss: 1.4832\n",
            "Epoch: 18/20... Step: 2460... Loss: 1.4329... Val Loss: 1.4862\n",
            "Epoch: 18/20... Step: 2470... Loss: 1.4376... Val Loss: 1.4839\n",
            "Epoch: 18/20... Step: 2480... Loss: 1.4302... Val Loss: 1.4817\n",
            "Epoch: 18/20... Step: 2490... Loss: 1.4186... Val Loss: 1.4831\n",
            "Epoch: 18/20... Step: 2500... Loss: 1.4250... Val Loss: 1.4841\n",
            "Epoch: 19/20... Step: 2510... Loss: 1.4338... Val Loss: 1.4789\n",
            "Epoch: 19/20... Step: 2520... Loss: 1.4395... Val Loss: 1.4748\n",
            "Epoch: 19/20... Step: 2530... Loss: 1.4335... Val Loss: 1.4738\n",
            "Epoch: 19/20... Step: 2540... Loss: 1.4505... Val Loss: 1.4728\n",
            "Epoch: 19/20... Step: 2550... Loss: 1.4112... Val Loss: 1.4736\n",
            "Epoch: 19/20... Step: 2560... Loss: 1.4251... Val Loss: 1.4748\n",
            "Epoch: 19/20... Step: 2570... Loss: 1.4187... Val Loss: 1.4714\n",
            "Epoch: 19/20... Step: 2580... Loss: 1.4448... Val Loss: 1.4695\n",
            "Epoch: 19/20... Step: 2590... Loss: 1.3968... Val Loss: 1.4689\n",
            "Epoch: 19/20... Step: 2600... Loss: 1.4137... Val Loss: 1.4678\n",
            "Epoch: 19/20... Step: 2610... Loss: 1.4083... Val Loss: 1.4679\n",
            "Epoch: 19/20... Step: 2620... Loss: 1.4016... Val Loss: 1.4664\n",
            "Epoch: 19/20... Step: 2630... Loss: 1.4028... Val Loss: 1.4658\n",
            "Epoch: 19/20... Step: 2640... Loss: 1.4138... Val Loss: 1.4625\n",
            "Epoch: 20/20... Step: 2650... Loss: 1.4141... Val Loss: 1.4637\n",
            "Epoch: 20/20... Step: 2660... Loss: 1.4222... Val Loss: 1.4599\n",
            "Epoch: 20/20... Step: 2670... Loss: 1.4198... Val Loss: 1.4568\n",
            "Epoch: 20/20... Step: 2680... Loss: 1.4023... Val Loss: 1.4587\n",
            "Epoch: 20/20... Step: 2690... Loss: 1.4126... Val Loss: 1.4562\n",
            "Epoch: 20/20... Step: 2700... Loss: 1.4190... Val Loss: 1.4571\n",
            "Epoch: 20/20... Step: 2710... Loss: 1.3862... Val Loss: 1.4564\n",
            "Epoch: 20/20... Step: 2720... Loss: 1.3821... Val Loss: 1.4577\n",
            "Epoch: 20/20... Step: 2730... Loss: 1.3856... Val Loss: 1.4549\n",
            "Epoch: 20/20... Step: 2740... Loss: 1.3715... Val Loss: 1.4554\n",
            "Epoch: 20/20... Step: 2750... Loss: 1.3832... Val Loss: 1.4561\n",
            "Epoch: 20/20... Step: 2760... Loss: 1.3603... Val Loss: 1.4549\n",
            "Epoch: 20/20... Step: 2770... Loss: 1.4115... Val Loss: 1.4515\n",
            "Epoch: 20/20... Step: 2780... Loss: 1.4261... Val Loss: 1.4509\n"
          ],
          "name": "stdout"
        }
      ]
    },
    {
      "metadata": {
        "id": "hdmc97z0GUl4",
        "colab_type": "text"
      },
      "cell_type": "markdown",
      "source": [
        "## Getting the best model\n",
        "\n",
        "To set your hyperparameters to get the best performance, you'll want to watch the training and validation losses. If your training loss is much lower than the validation loss, you're overfitting. Increase regularization (more dropout) or use a smaller network. If the training and validation losses are close, you're underfitting so you can increase the size of the network."
      ]
    },
    {
      "metadata": {
        "id": "3iOhoLgDGUl_",
        "colab_type": "text"
      },
      "cell_type": "markdown",
      "source": [
        "## Hyperparameters\n",
        "\n",
        "Here are the hyperparameters for the network.\n",
        "\n",
        "In defining the model:\n",
        "* `n_hidden` - The number of units in the hidden layers.\n",
        "* `n_layers` - Number of hidden LSTM layers to use.\n",
        "\n",
        "We assume that dropout probability and learning rate will be kept at the default, in this example.\n",
        "\n",
        "And in training:\n",
        "* `batch_size` - Number of sequences running through the network in one pass.\n",
        "* `seq_length` - Number of characters in the sequence the network is trained on. Larger is better typically, the network will learn more long range dependencies. But it takes longer to train. 100 is typically a good number here.\n",
        "* `lr` - Learning rate for training\n",
        "\n",
        "Here's some good advice from Andrej Karpathy on training the network. I'm going to copy it in here for your benefit, but also link to [where it originally came from](https://github.com/karpathy/char-rnn#tips-and-tricks).\n",
        "\n",
        "> ## Tips and Tricks\n",
        "\n",
        ">### Monitoring Validation Loss vs. Training Loss\n",
        ">If you're somewhat new to Machine Learning or Neural Networks it can take a bit of expertise to get good models. The most important quantity to keep track of is the difference between your training loss (printed during training) and the validation loss (printed once in a while when the RNN is run on the validation data (by default every 1000 iterations)). In particular:\n",
        "\n",
        "> - If your training loss is much lower than validation loss then this means the network might be **overfitting**. Solutions to this are to decrease your network size, or to increase dropout. For example you could try dropout of 0.5 and so on.\n",
        "> - If your training/validation loss are about equal then your model is **underfitting**. Increase the size of your model (either number of layers or the raw number of neurons per layer)\n",
        "\n",
        "> ### Approximate number of parameters\n",
        "\n",
        "> The two most important parameters that control the model are `n_hidden` and `n_layers`. I would advise that you always use `n_layers` of either 2/3. The `n_hidden` can be adjusted based on how much data you have. The two important quantities to keep track of here are:\n",
        "\n",
        "> - The number of parameters in your model. This is printed when you start training.\n",
        "> - The size of your dataset. 1MB file is approximately 1 million characters.\n",
        "\n",
        ">These two should be about the same order of magnitude. It's a little tricky to tell. Here are some examples:\n",
        "\n",
        "> - I have a 100MB dataset and I'm using the default parameter settings (which currently print 150K parameters). My data size is significantly larger (100 mil >> 0.15 mil), so I expect to heavily underfit. I am thinking I can comfortably afford to make `n_hidden` larger.\n",
        "> - I have a 10MB dataset and running a 10 million parameter model. I'm slightly nervous and I'm carefully monitoring my validation loss. If it's larger than my training loss then I may want to try to increase dropout a bit and see if that helps the validation loss.\n",
        "\n",
        "> ### Best models strategy\n",
        "\n",
        ">The winning strategy to obtaining very good models (if you have the compute time) is to always err on making the network larger (as large as you're willing to wait for it to compute) and then try different dropout values (between 0,1). Whatever model has the best validation performance (the loss, written in the checkpoint filename, low is good) is the one you should use in the end.\n",
        "\n",
        ">It is very common in deep learning to run many different models with many different hyperparameter settings, and in the end take whatever checkpoint gave the best validation performance.\n",
        "\n",
        ">By the way, the size of your training and validation splits are also parameters. Make sure you have a decent amount of data in your validation set or otherwise the validation performance will be noisy and not very informative."
      ]
    },
    {
      "metadata": {
        "id": "6SzIo3LaGUmC",
        "colab_type": "text"
      },
      "cell_type": "markdown",
      "source": [
        "## Checkpoint\n",
        "\n",
        "After training, we'll save the model so we can load it again later if we need too. Here I'm saving the parameters needed to create the same architecture, the hidden layer hyperparameters and the text characters."
      ]
    },
    {
      "metadata": {
        "id": "jPjOqnsyGUmH",
        "colab_type": "code",
        "colab": {}
      },
      "cell_type": "code",
      "source": [
        "# change the name, for saving multiple files\n",
        "model_name = 'rnn_x_epoch.net'\n",
        "\n",
        "checkpoint = {'n_hidden': net.n_hidden,\n",
        "              'n_layers': net.n_layers,\n",
        "              'state_dict': net.state_dict(),\n",
        "              'tokens': net.chars}\n",
        "\n",
        "with open(model_name, 'wb') as f:\n",
        "    torch.save(checkpoint, f)"
      ],
      "execution_count": 0,
      "outputs": []
    },
    {
      "metadata": {
        "id": "lZr14X8IGUmT",
        "colab_type": "text"
      },
      "cell_type": "markdown",
      "source": [
        "---\n",
        "## Making Predictions\n",
        "\n",
        "Now that the model is trained, we'll want to sample from it and make predictions about next characters! To sample, we pass in a character and have the network predict the next character. Then we take that character, pass it back in, and get another predicted character. Just keep doing this and you'll generate a bunch of text!\n",
        "\n",
        "### A note on the `predict`  function\n",
        "\n",
        "The output of our RNN is from a fully-connected layer and it outputs a **distribution of next-character scores**.\n",
        "\n",
        "> To actually get the next character, we apply a softmax function, which gives us a *probability* distribution that we can then sample to predict the next character.\n",
        "\n",
        "### Top K sampling\n",
        "\n",
        "Our predictions come from a categorical probability distribution over all the possible characters. We can make the sample text and make it more reasonable to handle (with less variables) by only considering some $K$ most probable characters. This will prevent the network from giving us completely absurd characters while allowing it to introduce some noise and randomness into the sampled text. Read more about [topk, here](https://pytorch.org/docs/stable/torch.html#torch.topk).\n"
      ]
    },
    {
      "metadata": {
        "id": "KSuJIgNbGUmV",
        "colab_type": "code",
        "colab": {}
      },
      "cell_type": "code",
      "source": [
        "def predict(net, char, h=None, top_k=None):\n",
        "        ''' Given a character, predict the next character.\n",
        "            Returns the predicted character and the hidden state.\n",
        "        '''\n",
        "        \n",
        "        # tensor inputs\n",
        "        x = np.array([[net.char2int[char]]])\n",
        "        x = one_hot_encode(x, len(net.chars))\n",
        "        inputs = torch.from_numpy(x)\n",
        "        \n",
        "        if(train_on_gpu):\n",
        "            inputs = inputs.cuda()\n",
        "        \n",
        "        # detach hidden state from history\n",
        "        h = tuple([each.data for each in h])\n",
        "        # get the output of the model\n",
        "        out, h = net(inputs, h)\n",
        "\n",
        "        # get the character probabilities\n",
        "        p = F.softmax(out, dim=1).data\n",
        "        if(train_on_gpu):\n",
        "            p = p.cpu() # move to cpu\n",
        "        \n",
        "        # get top characters\n",
        "        if top_k is None:\n",
        "            top_ch = np.arange(len(net.chars))\n",
        "        else:\n",
        "            p, top_ch = p.topk(top_k)\n",
        "            top_ch = top_ch.numpy().squeeze()\n",
        "        \n",
        "        # select the likely next character with some element of randomness\n",
        "        p = p.numpy().squeeze()\n",
        "        char = np.random.choice(top_ch, p=p/p.sum())\n",
        "        \n",
        "        # return the encoded value of the predicted char and the hidden state\n",
        "        return net.int2char[char], h"
      ],
      "execution_count": 0,
      "outputs": []
    },
    {
      "metadata": {
        "id": "NlMHjjU6GUmg",
        "colab_type": "text"
      },
      "cell_type": "markdown",
      "source": [
        "### Priming and generating text \n",
        "\n",
        "Typically you'll want to prime the network so you can build up a hidden state. Otherwise the network will start out generating characters at random. In general the first bunch of characters will be a little rough since it hasn't built up a long history of characters to predict from."
      ]
    },
    {
      "metadata": {
        "id": "7UlPYt3wGUmy",
        "colab_type": "code",
        "colab": {}
      },
      "cell_type": "code",
      "source": [
        "def sample(net, size, prime='The', top_k=None):\n",
        "        \n",
        "    if(train_on_gpu):\n",
        "        net.cuda()\n",
        "    else:\n",
        "        net.cpu()\n",
        "    \n",
        "    net.eval() # eval mode\n",
        "    \n",
        "    # First off, run through the prime characters\n",
        "    chars = [ch for ch in prime]\n",
        "    h = net.init_hidden(1)\n",
        "    for ch in prime:\n",
        "        char, h = predict(net, ch, h, top_k=top_k)\n",
        "\n",
        "    chars.append(char)\n",
        "    \n",
        "    # Now pass in the previous character and get a new one\n",
        "    for ii in range(size):\n",
        "        char, h = predict(net, chars[-1], h, top_k=top_k)\n",
        "        chars.append(char)\n",
        "\n",
        "    return ''.join(chars)"
      ],
      "execution_count": 0,
      "outputs": []
    },
    {
      "metadata": {
        "id": "0_kgRVX2GUm4",
        "colab_type": "code",
        "colab": {
          "base_uri": "https://localhost:8080/",
          "height": 382
        },
        "outputId": "5378ef34-8772-4cd8-9438-c74215ae285a"
      },
      "cell_type": "code",
      "source": [
        "print(sample(net, 1000, prime='Anna Karenina', top_k=5))"
      ],
      "execution_count": 21,
      "outputs": [
        {
          "output_type": "stream",
          "text": [
            "Anna Karenina's something\n",
            "with the princiss. He wert her and the served the stalts,\n",
            "and she was all something, but that his hosset\n",
            "so tho gove him hore. And she had been to bo down the right. He\n",
            "did not be all that the coon reporting to tee his\n",
            "face....\" he was all andend this and support to see\n",
            "herself for her all\n",
            "the peasants. He falled the roum in his sigrees of the\n",
            "readings, and\n",
            "that had and told her work, and she had, bus there were nor in a bright as if it was it\n",
            "seeper and that she was sterming and fing anything.\n",
            "\n",
            "\"What, ares! Well, I shall?\"\n",
            "\n",
            "\"Of, yit was now? And and I could not ge thome. And I sen it it to me.\n",
            "\n",
            "Thoug net is so infully betied at that morning, and so muther that the peasonts and messed on themest with her for the\n",
            "poors, what with his will sone of the cheers's something of\n",
            "the mostiry,\" she said,\n",
            "looking at him, the prisse, which stell simply and thought and stopled and and wincod browher happen and the child, him the children as the\n",
            "reality as she wat have been she had not, \n"
          ],
          "name": "stdout"
        }
      ]
    },
    {
      "metadata": {
        "id": "pjRk34rZGUnA",
        "colab_type": "text"
      },
      "cell_type": "markdown",
      "source": [
        "## Loading a checkpoint"
      ]
    },
    {
      "metadata": {
        "id": "eglWcMRIGUnB",
        "colab_type": "code",
        "colab": {
          "base_uri": "https://localhost:8080/",
          "height": 72
        },
        "outputId": "7f69cb34-9775-40ae-dd69-816035f4f6b3"
      },
      "cell_type": "code",
      "source": [
        "# Here we have loaded in a model that trained over 20 epochs `rnn_20_epoch.net`\n",
        "with open('rnn_x_epoch.net', 'rb') as f:\n",
        "    checkpoint = torch.load(f)\n",
        "    \n",
        "loaded = CharRNN(checkpoint['tokens'], n_hidden=checkpoint['n_hidden'], n_layers=checkpoint['n_layers'])\n",
        "loaded.load_state_dict(checkpoint['state_dict'])"
      ],
      "execution_count": 22,
      "outputs": [
        {
          "output_type": "stream",
          "text": [
            "/usr/local/lib/python3.6/dist-packages/torch/nn/modules/rnn.py:38: UserWarning: dropout option adds dropout after all but last recurrent layer, so non-zero dropout expects num_layers greater than 1, but got dropout=0.5 and num_layers=1\n",
            "  \"num_layers={}\".format(dropout, num_layers))\n"
          ],
          "name": "stderr"
        }
      ]
    },
    {
      "metadata": {
        "id": "K_cf1uoKGUnH",
        "colab_type": "code",
        "colab": {
          "base_uri": "https://localhost:8080/",
          "height": 523
        },
        "outputId": "e8c53281-e232-49e2-bbef-38fa64c31914"
      },
      "cell_type": "code",
      "source": [
        "# Sample using a loaded model\n",
        "print(sample(loaded, 2000, top_k=5, prime=\"And Levin said\"))"
      ],
      "execution_count": 23,
      "outputs": [
        {
          "output_type": "stream",
          "text": [
            "And Levin said in the contrariey always.\n",
            "\n",
            "\"That's the surruce in a mandiry--in hands and trien. I'm not canting of\n",
            "the simpress, I could never anywhere we menne should him. I amen in incertait,\"\n",
            "seet his sincers, and to be so the friend of the part of the seemensss of him instead on. He seemed\n",
            "to him, this here as something thought of him at the cortsin than thie had that the summer strense his our once trees with the searting, and same her sunder and stoplidg,\n",
            "but\n",
            "with her happiness, though theis not and were.\n",
            "\n",
            "\"Whether it the decour and inseened, she worlly as I have been an treed anster. I drank to the carming, but it will so as to\n",
            "see him?\" she said, \"I am gratined, but thas I have not\n",
            "seen the face and more to but to takt\n",
            "my awoult, in this sidn. I an worrs, there a seeping things in telled the some\n",
            "pretty\n",
            "atstenced., so that she\n",
            "had\n",
            "said that so her, in the ment on the same that\n",
            "was thried it of to the said. I am going and fillened things and this well. Alexey to see marryentions. I can's see at the\n",
            "horse in the provert, and the country to say the sand and she world the candoustay and houres, though. Har besuldend through the foorss of him tow round to seem her eace. This she'll said to so it,\" answered Vronsky, but his hand. \"If in your he felt this, it's a meast of\n",
            "the courte, to see.\n",
            "I would be in the roundet.\"\n",
            "\n",
            "Antarly had said in a long whole and working of the reary, and\n",
            "too that in horesion, what was he done, as he candoting him as is the princess, sain the horses of\n",
            "such manssancted of her. Sveanged too, thote the sone all the house and wine alwied him, he fole and the coold along, he was teartions, before him able te lad to a parsen, who chomes, an the badior and tor in this countes, and seened to her, and sawangs it was see in she was\n",
            "streight. And she ded canselved her, but still and saw he had no sectivial to a meathere, which he had been astation of anyent on the steps,\n",
            "he she had talked of his hisfers, and how highes are same instonded in tho\n",
            "eaclies to still h\n"
          ],
          "name": "stdout"
        }
      ]
    },
    {
      "metadata": {
        "id": "uselmsKlGUnU",
        "colab_type": "code",
        "colab": {}
      },
      "cell_type": "code",
      "source": [
        ""
      ],
      "execution_count": 0,
      "outputs": []
    }
  ]
}