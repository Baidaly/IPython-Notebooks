{
 "cells": [
  {
   "cell_type": "code",
   "execution_count": 1,
   "metadata": {},
   "outputs": [
    {
     "name": "stdout",
     "output_type": "stream",
     "text": [
      "WARNING:tensorflow:From <ipython-input-1-3545515d3d4b>:4: read_data_sets (from tensorflow.contrib.learn.python.learn.datasets.mnist) is deprecated and will be removed in a future version.\n",
      "Instructions for updating:\n",
      "Please use alternatives such as official/mnist/dataset.py from tensorflow/models.\n",
      "WARNING:tensorflow:From /Users/durazalinov/anaconda3/envs/tensorflow/lib/python3.6/site-packages/tensorflow/contrib/learn/python/learn/datasets/mnist.py:260: maybe_download (from tensorflow.contrib.learn.python.learn.datasets.base) is deprecated and will be removed in a future version.\n",
      "Instructions for updating:\n",
      "Please write your own downloading logic.\n",
      "WARNING:tensorflow:From /Users/durazalinov/anaconda3/envs/tensorflow/lib/python3.6/site-packages/tensorflow/contrib/learn/python/learn/datasets/base.py:252: _internal_retry.<locals>.wrap.<locals>.wrapped_fn (from tensorflow.contrib.learn.python.learn.datasets.base) is deprecated and will be removed in a future version.\n",
      "Instructions for updating:\n",
      "Please use urllib or similar directly.\n",
      "Successfully downloaded train-images-idx3-ubyte.gz 9912422 bytes.\n",
      "WARNING:tensorflow:From /Users/durazalinov/anaconda3/envs/tensorflow/lib/python3.6/site-packages/tensorflow/contrib/learn/python/learn/datasets/mnist.py:262: extract_images (from tensorflow.contrib.learn.python.learn.datasets.mnist) is deprecated and will be removed in a future version.\n",
      "Instructions for updating:\n",
      "Please use tf.data to implement this functionality.\n",
      "Extracting MNIST_data/train-images-idx3-ubyte.gz\n",
      "Successfully downloaded train-labels-idx1-ubyte.gz 28881 bytes.\n",
      "WARNING:tensorflow:From /Users/durazalinov/anaconda3/envs/tensorflow/lib/python3.6/site-packages/tensorflow/contrib/learn/python/learn/datasets/mnist.py:267: extract_labels (from tensorflow.contrib.learn.python.learn.datasets.mnist) is deprecated and will be removed in a future version.\n",
      "Instructions for updating:\n",
      "Please use tf.data to implement this functionality.\n",
      "Extracting MNIST_data/train-labels-idx1-ubyte.gz\n",
      "WARNING:tensorflow:From /Users/durazalinov/anaconda3/envs/tensorflow/lib/python3.6/site-packages/tensorflow/contrib/learn/python/learn/datasets/mnist.py:110: dense_to_one_hot (from tensorflow.contrib.learn.python.learn.datasets.mnist) is deprecated and will be removed in a future version.\n",
      "Instructions for updating:\n",
      "Please use tf.one_hot on tensors.\n",
      "Successfully downloaded t10k-images-idx3-ubyte.gz 1648877 bytes.\n",
      "Extracting MNIST_data/t10k-images-idx3-ubyte.gz\n",
      "Successfully downloaded t10k-labels-idx1-ubyte.gz 4542 bytes.\n",
      "Extracting MNIST_data/t10k-labels-idx1-ubyte.gz\n",
      "WARNING:tensorflow:From /Users/durazalinov/anaconda3/envs/tensorflow/lib/python3.6/site-packages/tensorflow/contrib/learn/python/learn/datasets/mnist.py:290: DataSet.__init__ (from tensorflow.contrib.learn.python.learn.datasets.mnist) is deprecated and will be removed in a future version.\n",
      "Instructions for updating:\n",
      "Please use alternatives such as official/mnist/dataset.py from tensorflow/models.\n",
      "no. of images =  55000\n",
      "size of each images (pixels) =  784\n"
     ]
    }
   ],
   "source": [
    "import tensorflow as tf\n",
    "from tensorflow.examples.tutorials.mnist import input_data\n",
    "\n",
    "mnist = input_data.read_data_sets(\"MNIST_data/\", one_hot=True)\n",
    "\n",
    "print('no. of images = ', mnist.train.images.shape[0]) \n",
    "print('size of each images (pixels) = ', mnist.train.images.shape[1]) "
   ]
  },
  {
   "cell_type": "code",
   "execution_count": 4,
   "metadata": {},
   "outputs": [
    {
     "name": "stdout",
     "output_type": "stream",
     "text": [
      "[0. 0. 0. 0. 1. 0. 0. 0. 0. 0.]\n"
     ]
    },
    {
     "data": {
      "image/png": "[encoded data removed]",
      "text/plain": [
       "<Figure size 432x288 with 1 Axes>"
      ]
     },
     "metadata": {},
     "output_type": "display_data"
    }
   ],
   "source": [
    "#Import matplotlib\n",
    "import matplotlib.pyplot as plt\n",
    "\n",
    "sample_label = mnist.train.labels[2]\n",
    "print(sample_label)\n",
    "\n",
    "sample_image = mnist.train.images[2].reshape(28, 28)\n",
    "plt.imshow(sample_image)\n",
    "plt.show()"
   ]
  },
  {
   "cell_type": "markdown",
   "metadata": {},
   "source": [
    "Parameter values are empirical adjusted values for each data set. You can experiment with different values to achieve the best results. We have the following basic parameters & hyperparameters:\n",
    "\n",
    "    learning_rate = 0.001 # How quickly to adjust the cost function.\n",
    "    training_epochs = 15 # How many training cycles to go through.\n",
    "    batch_size = 1000 # Size of the ‘batches’ of training data\n",
    "    n_hidden_1 = 256 # Neuron in 1st layer\n",
    "    n_hidden_2 = 256 # Neuron in 2nd layer\n",
    "    n_input = 784 # Number of pixels in one image (28X28)\n",
    "    n_classes = 10 # Total number of classes from 0 to 10\n",
    "    n_sample = mnist.train.num_examples"
   ]
  },
  {
   "cell_type": "code",
   "execution_count": 5,
   "metadata": {},
   "outputs": [],
   "source": [
    "learning_rate = 0.001 # How quickly to adjust the cost function.\n",
    "training_epochs = 15 # How many training cycles to go through.\n",
    "batch_size = 1000 # Size of the ‘batches’ of training data\n",
    "n_hidden_1 = 256 # Neuron in 1st layer\n",
    "n_hidden_2 = 256 # Neuron in 2nd layer\n",
    "n_input = 784 # Number of pixels in one image (28X28)\n",
    "n_classes = 10 # Total number of classes from 0 to 10\n",
    "n_sample = mnist.train.num_examples"
   ]
  },
  {
   "cell_type": "code",
   "execution_count": 6,
   "metadata": {},
   "outputs": [],
   "source": [
    "# tf Graph input (Define two empty containers, 1- input & 2- output)\n",
    "x = tf.placeholder(\"float\", [None, n_input])\n",
    "y = tf.placeholder(\"float\", [None, n_classes])\n",
    "\n",
    "weights = {\n",
    "    'h1': tf.Variable(tf.random_normal([n_input, n_hidden_1])),\n",
    "    'h2': tf.Variable(tf.random_normal([n_hidden_1, n_hidden_2])),\n",
    "    'out': tf.Variable(tf.random_normal([n_hidden_2, n_classes]))\n",
    "}\n",
    "\n",
    "biases = {\n",
    "    'b1': tf.Variable(tf.random_normal([n_hidden_1])),\n",
    "    'b2': tf.Variable(tf.random_normal([n_hidden_2])),\n",
    "    'out': tf.Variable(tf.random_normal([n_classes]))\n",
    "}"
   ]
  },
  {
   "cell_type": "markdown",
   "metadata": {},
   "source": [
    "For the sake of simplicity, we will create only model with two hidden layers:\n",
    "\n",
    "Step 1: We will receive input data array to the first hidden layer (with 256 neurons in this case). The data will have random weight attached to it between layers and then sent to a node to undergo an activation function (along with a Bias). In this example, we will be using the RELU activation function which is a very simple rectifier fucntion that returns x or zero. For our final output layer, we will use a linear activation with matrix multiplication.\n",
    "\n",
    "Step 2: The output of first layer will be input to the next hidden layer where the same process will be repeated with different weights and bias.\n",
    "\n",
    "Step 3: The final output data will be evaluated using a loss function (or cost function) which tells us how far off we are from the desired result.\n",
    "\n",
    "Step 4: Apply an optimisation function to minimise the cost. We will use the Adam Optimiser in this example. We can adjust how quickly we want to apply this optimisation by tweaking the learning rate parameter above. The lower the rate, the higher the possibility for accurate training results."
   ]
  },
  {
   "cell_type": "code",
   "execution_count": 7,
   "metadata": {},
   "outputs": [
    {
     "name": "stdout",
     "output_type": "stream",
     "text": [
      "WARNING:tensorflow:From <ipython-input-7-8859679d97ba>:25: softmax_cross_entropy_with_logits (from tensorflow.python.ops.nn_ops) is deprecated and will be removed in a future version.\n",
      "Instructions for updating:\n",
      "\n",
      "Future major versions of TensorFlow will allow gradients to flow\n",
      "into the labels input on backprop by default.\n",
      "\n",
      "See @{tf.nn.softmax_cross_entropy_with_logits_v2}.\n",
      "\n"
     ]
    }
   ],
   "source": [
    "def multilayer_perceptron(x, weights, biases):\n",
    "\t\"\"\"\n",
    "\tx: palceholder for data inputs\n",
    "\tweights: Dictionary of weights\n",
    "\tbiases: Dictionary of biases\n",
    "\t\"\"\"\n",
    "\n",
    "\t#First hidden layer with ReLu (Rectified Linear Unit) activation (256 neuron)\n",
    "\tlayer_1 = tf.add(tf.matmul(x, weights['h1']), biases['b1'])\n",
    "\tlayer_1 = tf.nn.relu(layer_1)\n",
    "\n",
    "\t#Second hidden layer with ReLu activation (256 neuron)\n",
    "\tlayer_2 = tf.add(tf.matmul(layer_1, weights['h2']), biases['b2'])\n",
    "\tlayer_2 = tf.nn.relu(layer_2)\n",
    "\n",
    "\t#Final Output layer with linear activation (neuron for each class)\n",
    "\tout_layer = tf.matmul(layer_2, weights['out']) + biases['out']\n",
    "\n",
    "\treturn out_layer\n",
    "\n",
    "#Construct the model\n",
    "pred = multilayer_perceptron(x, weights, biases)\n",
    "\n",
    "# Define loss and optimizer (optimizer will help in reducing the cost)\n",
    "cost = tf.reduce_mean(tf.nn.softmax_cross_entropy_with_logits(logits = pred, labels = y))\n",
    "optimizer = tf.train.AdamOptimizer(learning_rate=learning_rate).minimize(cost)"
   ]
  },
  {
   "cell_type": "code",
   "execution_count": 8,
   "metadata": {},
   "outputs": [
    {
     "name": "stdout",
     "output_type": "stream",
     "text": [
      "Epoch: 1 cost=664.0362\n",
      "Epoch: 2 cost=178.4355\n",
      "Epoch: 3 cost=109.6021\n",
      "Epoch: 4 cost=81.8151\n",
      "Epoch: 5 cost=66.3303\n",
      "Epoch: 6 cost=56.0368\n",
      "Epoch: 7 cost=48.5834\n",
      "Epoch: 8 cost=42.7741\n",
      "Epoch: 9 cost=38.1617\n",
      "Epoch: 10 cost=34.3432\n",
      "Epoch: 11 cost=31.1136\n",
      "Epoch: 12 cost=28.3497\n",
      "Epoch: 13 cost=26.0664\n",
      "Epoch: 14 cost=23.8468\n",
      "Epoch: 15 cost=21.9714\n",
      "Model has completed 15 Epoch of training\n",
      "Optimization Finished!\n"
     ]
    }
   ],
   "source": [
    "# Run Session\n",
    "sess = tf.InteractiveSession()\n",
    "\n",
    "# Initializing the variables\n",
    "init = tf.global_variables_initializer()\n",
    "\n",
    "sess.run(init)\n",
    "\n",
    "# 2 loops only as we set training_epochs = 2\n",
    "for epoch in range(training_epochs):\n",
    "    #Start with cost\n",
    "    avg_cost = 0.0\n",
    "    \n",
    "    #Convert total number of batches to integer\n",
    "    total_batch = int(n_sample/batch_size)\n",
    "    \n",
    "    #Loop over all the batches\n",
    "    for i in range(total_batch):\n",
    "        \n",
    "        #Grab the next batch of training data and labels\n",
    "        batch_x, batch_y = mnist.train.next_batch(batch_size)\n",
    "        \n",
    "        #Feed dictionary for optimization and loss value\n",
    "        #Returns a tuple, but we only need 'c' the cost\n",
    "        #We set an underscore as a throw away\n",
    "        _, c = sess.run([optimizer, cost], feed_dict = {x:batch_x, y:batch_y})\n",
    "        \n",
    "        #Since 'c' above is for only for single batch so we have to compute average\n",
    "        avg_cost += c / total_batch\n",
    "        \n",
    "        #Display logs per epoch step\n",
    "    print(\"Epoch: {} cost={:.4f}\".format(epoch + 1, avg_cost))\n",
    "\n",
    "print(\"Model has completed {} Epoch of training\".format(training_epochs))\n",
    "print(\"Optimization Finished!\")\n"
   ]
  },
  {
   "cell_type": "code",
   "execution_count": 9,
   "metadata": {},
   "outputs": [
    {
     "name": "stdout",
     "output_type": "stream",
     "text": [
      "Accuracy: 0.9095\n"
     ]
    }
   ],
   "source": [
    "# Test the model\n",
    "correct_predictions = tf.equal(tf.argmax(pred, 1), tf.argmax(y, 1))\n",
    "\n",
    "# Use tf.cast to cast the Tensor of booleans back into a Tensor of Floating point values in order to take the mean of it.\n",
    "correct_predictions = tf.cast(correct_predictions,'float')\n",
    "\n",
    "# Calculate accuracy\n",
    "accuracy = tf.reduce_mean(tf.cast(correct_predictions, \"float\"))\n",
    "\n",
    "# The accuracy is still a Tensor object. The eval() method allows you to directly evaluates this tensor in a Session\n",
    "print(\"Accuracy:\", accuracy.eval({x: mnist.test.images, y: mnist.test.labels}))"
   ]
  },
  {
   "cell_type": "code",
   "execution_count": null,
   "metadata": {},
   "outputs": [],
   "source": []
  }
 ],
 "metadata": {
  "kernelspec": {
   "display_name": "Python 3",
   "language": "python",
   "name": "python3"
  },
  "language_info": {
   "codemirror_mode": {
    "name": "ipython",
    "version": 3
   },
   "file_extension": ".py",
   "mimetype": "text/x-python",
   "name": "python",
   "nbconvert_exporter": "python",
   "pygments_lexer": "ipython3",
   "version": "3.6.6"
  }
 },
 "nbformat": 4,
 "nbformat_minor": 2
}
